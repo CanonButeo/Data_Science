{
 "cells": [
  {
   "cell_type": "code",
   "execution_count": 1,
   "id": "e989f8a8-cf44-4ef7-a7c5-5593341e9d20",
   "metadata": {},
   "outputs": [],
   "source": [
    "import pandas as pd\n",
    "import numpy as np\n",
    "import seaborn as sns\n",
    "import matplotlib.pyplot as plt\n",
    "from sklearn.model_selection import train_test_split, GridSearchCV\n",
    "from sklearn.neighbors import KNeighborsClassifier\n",
    "from sklearn.metrics import confusion_matrix, classification_report"
   ]
  },
  {
   "cell_type": "code",
   "execution_count": 2,
   "id": "c8deb6b7-f555-4a99-8dd5-0eebf3c56cec",
   "metadata": {},
   "outputs": [
    {
     "name": "stdout",
     "output_type": "stream",
     "text": [
      "<class 'pandas.core.frame.DataFrame'>\n",
      "RangeIndex: 16304 entries, 0 to 16303\n",
      "Data columns (total 28 columns):\n",
      " #   Column         Non-Null Count  Dtype  \n",
      "---  ------         --------------  -----  \n",
      " 0   Unnamed: 0     16304 non-null  int64  \n",
      " 1   Year           16304 non-null  int64  \n",
      " 2   Player         16304 non-null  object \n",
      " 3   Tm             16304 non-null  object \n",
      " 4   G              16304 non-null  float64\n",
      " 5   PER            16304 non-null  float64\n",
      " 6    Salary        16304 non-null  float64\n",
      " 7   MP             16304 non-null  float64\n",
      " 8   3P             16304 non-null  float64\n",
      " 9   2P             16304 non-null  float64\n",
      " 10  FT             16304 non-null  float64\n",
      " 11  TRB            16304 non-null  float64\n",
      " 12  AST            16304 non-null  float64\n",
      " 13  STL            16304 non-null  float64\n",
      " 14  BLK            16304 non-null  float64\n",
      " 15  TOV            16304 non-null  float64\n",
      " 16  PF             16304 non-null  float64\n",
      " 17  PTS            16304 non-null  float64\n",
      " 18  Archetype      16304 non-null  object \n",
      " 19  Pos_C          16304 non-null  int64  \n",
      " 20  Pos_PF         16304 non-null  int64  \n",
      " 21  Pos_PG         16304 non-null  int64  \n",
      " 22  Pos_SF         16304 non-null  int64  \n",
      " 23  Pos_SG         16304 non-null  int64  \n",
      " 24  decades_1980s  16304 non-null  int64  \n",
      " 25  decades_1990s  16304 non-null  int64  \n",
      " 26  decades_2000s  16304 non-null  int64  \n",
      " 27  decades_2010s  16304 non-null  int64  \n",
      "dtypes: float64(14), int64(11), object(3)\n",
      "memory usage: 3.5+ MB\n",
      "None\n"
     ]
    }
   ],
   "source": [
    "nbapset = pd.read_csv(\"nbaprocessed.csv\")\n",
    "print(nbapset.info())"
   ]
  },
  {
   "cell_type": "code",
   "execution_count": 3,
   "id": "2c042ef4-b348-43a8-ad70-6aa2c893f820",
   "metadata": {},
   "outputs": [
    {
     "name": "stdout",
     "output_type": "stream",
     "text": [
      "<class 'pandas.core.frame.DataFrame'>\n",
      "RangeIndex: 16304 entries, 0 to 16303\n",
      "Data columns (total 27 columns):\n",
      " #   Column         Non-Null Count  Dtype  \n",
      "---  ------         --------------  -----  \n",
      " 0   Year           16304 non-null  int64  \n",
      " 1   Player         16304 non-null  object \n",
      " 2   Tm             16304 non-null  object \n",
      " 3   G              16304 non-null  float64\n",
      " 4   PER            16304 non-null  float64\n",
      " 5    Salary        16304 non-null  float64\n",
      " 6   MP             16304 non-null  float64\n",
      " 7   3P             16304 non-null  float64\n",
      " 8   2P             16304 non-null  float64\n",
      " 9   FT             16304 non-null  float64\n",
      " 10  TRB            16304 non-null  float64\n",
      " 11  AST            16304 non-null  float64\n",
      " 12  STL            16304 non-null  float64\n",
      " 13  BLK            16304 non-null  float64\n",
      " 14  TOV            16304 non-null  float64\n",
      " 15  PF             16304 non-null  float64\n",
      " 16  PTS            16304 non-null  float64\n",
      " 17  Archetype      16304 non-null  object \n",
      " 18  Pos_C          16304 non-null  int64  \n",
      " 19  Pos_PF         16304 non-null  int64  \n",
      " 20  Pos_PG         16304 non-null  int64  \n",
      " 21  Pos_SF         16304 non-null  int64  \n",
      " 22  Pos_SG         16304 non-null  int64  \n",
      " 23  decades_1980s  16304 non-null  int64  \n",
      " 24  decades_1990s  16304 non-null  int64  \n",
      " 25  decades_2000s  16304 non-null  int64  \n",
      " 26  decades_2010s  16304 non-null  int64  \n",
      "dtypes: float64(14), int64(10), object(3)\n",
      "memory usage: 3.4+ MB\n",
      "None\n"
     ]
    }
   ],
   "source": [
    "nbapset.drop(columns = nbapset.columns[0], axis = 1, inplace = True)\n",
    "print(nbapset.info())"
   ]
  },
  {
   "cell_type": "code",
   "execution_count": 4,
   "id": "47d4d381-e4c0-4c26-af61-5ca8c4a13bd2",
   "metadata": {},
   "outputs": [
    {
     "name": "stdout",
     "output_type": "stream",
     "text": [
      "<class 'pandas.core.frame.DataFrame'>\n",
      "RangeIndex: 16304 entries, 0 to 16303\n",
      "Data columns (total 23 columns):\n",
      " #   Column         Non-Null Count  Dtype  \n",
      "---  ------         --------------  -----  \n",
      " 0   G              16304 non-null  float64\n",
      " 1   PER            16304 non-null  float64\n",
      " 2    Salary        16304 non-null  float64\n",
      " 3   MP             16304 non-null  float64\n",
      " 4   3P             16304 non-null  float64\n",
      " 5   2P             16304 non-null  float64\n",
      " 6   FT             16304 non-null  float64\n",
      " 7   TRB            16304 non-null  float64\n",
      " 8   AST            16304 non-null  float64\n",
      " 9   STL            16304 non-null  float64\n",
      " 10  BLK            16304 non-null  float64\n",
      " 11  TOV            16304 non-null  float64\n",
      " 12  PF             16304 non-null  float64\n",
      " 13  PTS            16304 non-null  float64\n",
      " 14  Pos_C          16304 non-null  int64  \n",
      " 15  Pos_PF         16304 non-null  int64  \n",
      " 16  Pos_PG         16304 non-null  int64  \n",
      " 17  Pos_SF         16304 non-null  int64  \n",
      " 18  Pos_SG         16304 non-null  int64  \n",
      " 19  decades_1980s  16304 non-null  int64  \n",
      " 20  decades_1990s  16304 non-null  int64  \n",
      " 21  decades_2000s  16304 non-null  int64  \n",
      " 22  decades_2010s  16304 non-null  int64  \n",
      "dtypes: float64(14), int64(9)\n",
      "memory usage: 2.9 MB\n",
      "<class 'pandas.core.frame.DataFrame'>\n",
      "RangeIndex: 16304 entries, 0 to 16303\n",
      "Data columns (total 1 columns):\n",
      " #   Column     Non-Null Count  Dtype \n",
      "---  ------     --------------  ----- \n",
      " 0   Archetype  16304 non-null  object\n",
      "dtypes: object(1)\n",
      "memory usage: 127.5+ KB\n",
      "None None\n"
     ]
    }
   ],
   "source": [
    "Xp = nbapset.drop( columns = [\"Year\",\"Player\",\"Tm\",\"Archetype\"], axis = 1)\n",
    "yp = nbapset[[\"Archetype\"]]\n",
    "print(Xp.info(), yp.info())"
   ]
  },
  {
   "cell_type": "code",
   "execution_count": 5,
   "id": "9e46294a-3a4d-4c34-ab44-83e75e94fcfa",
   "metadata": {},
   "outputs": [],
   "source": [
    "Xp_train, Xp_test, yp_train, yp_test = train_test_split(Xp, yp, test_size = 0.25, random_state = 42)"
   ]
  },
  {
   "cell_type": "code",
   "execution_count": 6,
   "id": "9dd2b4b6-de88-4027-974b-b6e9f42d0542",
   "metadata": {},
   "outputs": [
    {
     "name": "stdout",
     "output_type": "stream",
     "text": [
      "(12228, 23) (4076, 23) (12228, 1) (4076, 1)\n"
     ]
    }
   ],
   "source": [
    "print(Xp_train.shape, Xp_test.shape, yp_train.shape, yp_test.shape)"
   ]
  },
  {
   "cell_type": "code",
   "execution_count": 7,
   "id": "81a092bb-9fd1-4550-904b-ae0ac84918b7",
   "metadata": {},
   "outputs": [
    {
     "name": "stdout",
     "output_type": "stream",
     "text": [
      "[2, 3, 4, 5, 6, 7, 8, 9, 10, 11, 12, 13, 14, 15, 16, 17, 18, 19, 20, 21, 22, 23, 24, 25, 26, 27, 28, 29, 30, 31, 32, 33, 34, 35, 36, 37, 38, 39, 40, 41, 42, 43, 44, 45, 46, 47, 48, 49, 50]\n"
     ]
    }
   ],
   "source": [
    "knn = KNeighborsClassifier(metric = \"minkowski\")\n",
    "k_number = list(range(2,51))\n",
    "print(k_number)"
   ]
  },
  {
   "cell_type": "code",
   "execution_count": 8,
   "id": "32fade5f-237a-46a3-a1e6-e3ed1090064f",
   "metadata": {},
   "outputs": [
    {
     "name": "stdout",
     "output_type": "stream",
     "text": [
      "{'n_neighbors': [2, 3, 4, 5, 6, 7, 8, 9, 10, 11, 12, 13, 14, 15, 16, 17, 18, 19, 20, 21, 22, 23, 24, 25, 26, 27, 28, 29, 30, 31, 32, 33, 34, 35, 36, 37, 38, 39, 40, 41, 42, 43, 44, 45, 46, 47, 48, 49, 50], 'p': [1, 2], 'weights': ['uniform', 'distance']}\n"
     ]
    }
   ],
   "source": [
    "param_grid = {\n",
    "    \"n_neighbors\" : k_number,\n",
    "    \"p\" : [1,2],\n",
    "    \"weights\" : [\"uniform\",\"distance\"]\n",
    "}\n",
    "print(param_grid)"
   ]
  },
  {
   "cell_type": "code",
   "execution_count": 9,
   "id": "5ef1856f-0508-4e57-860a-e36b683dae44",
   "metadata": {},
   "outputs": [
    {
     "name": "stdout",
     "output_type": "stream",
     "text": [
      "Fitting 10 folds for each of 196 candidates, totalling 1960 fits\n"
     ]
    },
    {
     "name": "stderr",
     "output_type": "stream",
     "text": [
      "C:\\Users\\Furkan Yasin sahın\\AppData\\Local\\Programs\\Python\\Python310\\lib\\site-packages\\sklearn\\neighbors\\_classification.py:200: DataConversionWarning: A column-vector y was passed when a 1d array was expected. Please change the shape of y to (n_samples,), for example using ravel().\n",
      "  return self._fit(X, y)\n"
     ]
    }
   ],
   "source": [
    "scorers = [\"accuracy\",\"precision_weighted\",\"recall_weighted\",\"f1_weighted\"]\n",
    "grid = GridSearchCV(knn, param_grid, cv = 10, scoring = \"accuracy\", verbose = 1, n_jobs = -1)\n",
    "grid_search = grid.fit(Xp_train, yp_train)"
   ]
  },
  {
   "cell_type": "code",
   "execution_count": 10,
   "id": "0f61e9ab-1eef-4872-b024-86f17678476c",
   "metadata": {},
   "outputs": [
    {
     "name": "stdout",
     "output_type": "stream",
     "text": [
      "{'n_neighbors': 8, 'p': 1, 'weights': 'distance'}\n"
     ]
    }
   ],
   "source": [
    "print(grid_search.best_params_)"
   ]
  },
  {
   "cell_type": "code",
   "execution_count": 11,
   "id": "8670770c-6b95-483e-8383-be3a8c452f4b",
   "metadata": {},
   "outputs": [
    {
     "name": "stdout",
     "output_type": "stream",
     "text": [
      "Accuracy of optimum model: 0.8869809154329257\n"
     ]
    }
   ],
   "source": [
    "print(\"Accuracy of optimum model:\", grid_search.best_score_)"
   ]
  },
  {
   "cell_type": "code",
   "execution_count": 12,
   "id": "ca3578d4-3184-4c4a-8171-5dbe6364e9a0",
   "metadata": {},
   "outputs": [
    {
     "name": "stdout",
     "output_type": "stream",
     "text": [
      "17\n"
     ]
    }
   ],
   "source": [
    "from sklearn.model_selection import cross_validate\n",
    "knum = [2,3,4,5,6,7,8,9,10,15,20,25,30,35,40,45,50]\n",
    "listlength = len(knum)\n",
    "print(listlength)\n",
    "i = 0\n",
    "acc = []"
   ]
  },
  {
   "cell_type": "code",
   "execution_count": 13,
   "id": "6608ac12-4773-4f66-acff-73e50388a09f",
   "metadata": {},
   "outputs": [],
   "source": [
    "while (i<listlength):\n",
    "    knntest = KNeighborsClassifier(n_neighbors = knum[i], metric = \"minkowski\", p = 1, weights = \"distance\")\n",
    "    cvtest = cross_validate(knntest, Xp_train, yp_train, scoring = scorers, cv = 10, n_jobs = -1)\n",
    "    acc.append(cvtest[\"test_accuracy\"].mean())\n",
    "    i+=1    "
   ]
  },
  {
   "cell_type": "code",
   "execution_count": 14,
   "id": "3dc335a8-9cfe-4307-b186-d4a850bc4e2a",
   "metadata": {},
   "outputs": [
    {
     "data": {
      "text/plain": [
       "Text(0, 0.5, 'Accuracy')"
      ]
     },
     "execution_count": 14,
     "metadata": {},
     "output_type": "execute_result"
    },
    {
     "data": {
      "image/png": "[encoded data removed]",
      "text/plain": [
       "<Figure size 720x504 with 1 Axes>"
      ]
     },
     "metadata": {
      "needs_background": "light"
     },
     "output_type": "display_data"
    }
   ],
   "source": [
    "plt.figure(figsize = (10,7))\n",
    "plt.plot(knum, acc, marker = \"o\", color = \"blue\", mec = \"black\", mfc = \"yellow\", ms = 8)\n",
    "plt.xlabel(\"Number of Neighbors\")\n",
    "plt.ylabel(\"Accuracy\")"
   ]
  },
  {
   "cell_type": "code",
   "execution_count": 15,
   "id": "a5ae25f9-331e-4051-9bc8-403dc3feb870",
   "metadata": {},
   "outputs": [
    {
     "name": "stdout",
     "output_type": "stream",
     "text": [
      "0.8869809154329257\n"
     ]
    }
   ],
   "source": [
    "print(np.array(acc).max())"
   ]
  },
  {
   "cell_type": "code",
   "execution_count": 16,
   "id": "dbf0265b-0c47-4f9f-a016-ab60fcf337a0",
   "metadata": {},
   "outputs": [
    {
     "name": "stderr",
     "output_type": "stream",
     "text": [
      "C:\\Users\\Furkan Yasin sahın\\AppData\\Local\\Programs\\Python\\Python310\\lib\\site-packages\\sklearn\\neighbors\\_classification.py:200: DataConversionWarning: A column-vector y was passed when a 1d array was expected. Please change the shape of y to (n_samples,), for example using ravel().\n",
      "  return self._fit(X, y)\n"
     ]
    }
   ],
   "source": [
    "knnp = KNeighborsClassifier(n_neighbors = 8, metric = \"minkowski\", p = 1, weights = \"distance\")\n",
    "knnp = knnp.fit(Xp_train, yp_train)\n",
    "ypred = knnp.predict(Xp_test)"
   ]
  },
  {
   "cell_type": "code",
   "execution_count": 17,
   "id": "0b456000-20ae-487c-b3fd-2ae576dbff5f",
   "metadata": {},
   "outputs": [
    {
     "data": {
      "text/plain": [
       "<AxesSubplot:>"
      ]
     },
     "execution_count": 17,
     "metadata": {},
     "output_type": "execute_result"
    },
    {
     "data": {
      "image/png": "[encoded data removed]",
      "text/plain": [
       "<Figure size 720x360 with 2 Axes>"
      ]
     },
     "metadata": {
      "needs_background": "light"
     },
     "output_type": "display_data"
    }
   ],
   "source": [
    "cm = confusion_matrix(yp_test, ypred)\n",
    "plt.figure(figsize = (10,5))\n",
    "sns.heatmap(cm, annot = True, cmap =\"tab20b\", fmt = \"d\")"
   ]
  },
  {
   "cell_type": "code",
   "execution_count": 18,
   "id": "432301d1-dbcf-4f43-a7b3-84d152cc481d",
   "metadata": {},
   "outputs": [
    {
     "name": "stdout",
     "output_type": "stream",
     "text": [
      "                       precision    recall  f1-score   support\n",
      "\n",
      "     All Star Big Man       0.93      0.79      0.86       161\n",
      "   All Star Playmaker       0.89      0.84      0.86       183\n",
      " All Star Post Scorer       0.88      0.85      0.87       316\n",
      "All Star Sharpshooter       0.90      0.84      0.87       351\n",
      "            Ignorance       0.91      0.99      0.95       972\n",
      "            Playmaker       0.86      0.83      0.85       411\n",
      "          Post Scorer       0.89      0.90      0.89       631\n",
      "        Rim Protector       0.85      0.92      0.88       388\n",
      "         Sharpshooter       0.88      0.85      0.86       510\n",
      "            Superstar       0.95      0.79      0.86       153\n",
      "\n",
      "             accuracy                           0.89      4076\n",
      "            macro avg       0.89      0.86      0.88      4076\n",
      "         weighted avg       0.89      0.89      0.89      4076\n",
      "\n"
     ]
    }
   ],
   "source": [
    "print(classification_report(yp_test, ypred))"
   ]
  },
  {
   "cell_type": "code",
   "execution_count": 19,
   "id": "9bca2770-e325-4633-a9bf-e5f67f03bb7c",
   "metadata": {},
   "outputs": [
    {
     "name": "stdout",
     "output_type": "stream",
     "text": [
      "<class 'pandas.core.frame.DataFrame'>\n",
      "RangeIndex: 16304 entries, 0 to 16303\n",
      "Data columns (total 13 columns):\n",
      " #   Column      Non-Null Count  Dtype  \n",
      "---  ------      --------------  -----  \n",
      " 0   Unnamed: 0  16304 non-null  int64  \n",
      " 1    Salary     16304 non-null  float64\n",
      " 2   MP          16304 non-null  float64\n",
      " 3   3P          16304 non-null  float64\n",
      " 4   FT          16304 non-null  float64\n",
      " 5   TRB         16304 non-null  float64\n",
      " 6   AST         16304 non-null  float64\n",
      " 7   STL         16304 non-null  float64\n",
      " 8   BLK         16304 non-null  float64\n",
      " 9   TOV         16304 non-null  float64\n",
      " 10  PF          16304 non-null  float64\n",
      " 11  PTS         16304 non-null  float64\n",
      " 12  Archetype   16304 non-null  object \n",
      "dtypes: float64(11), int64(1), object(1)\n",
      "memory usage: 1.6+ MB\n",
      "None\n"
     ]
    }
   ],
   "source": [
    "nbafset = pd.read_csv(\"nbafeatset.csv\")\n",
    "print(nbafset.info())"
   ]
  },
  {
   "cell_type": "code",
   "execution_count": 20,
   "id": "b7d6f6a8-94d4-40c9-b6e4-e642161b2a2a",
   "metadata": {},
   "outputs": [],
   "source": [
    "nbafset.drop(columns = nbafset.columns[0], axis = 1, inplace = True)"
   ]
  },
  {
   "cell_type": "code",
   "execution_count": 21,
   "id": "f0934b8b-90a9-4ae1-9355-dd045cc36e87",
   "metadata": {},
   "outputs": [],
   "source": [
    "Xf = nbafset.drop(columns = \"Archetype\", axis = 1)\n",
    "yf = nbafset[[\"Archetype\"]]"
   ]
  },
  {
   "cell_type": "code",
   "execution_count": 22,
   "id": "4062d1ea-9ba5-4e3d-86c1-3d26c80f8297",
   "metadata": {},
   "outputs": [
    {
     "name": "stdout",
     "output_type": "stream",
     "text": [
      "<class 'pandas.core.frame.DataFrame'>\n",
      "RangeIndex: 16304 entries, 0 to 16303\n",
      "Data columns (total 11 columns):\n",
      " #   Column    Non-Null Count  Dtype  \n",
      "---  ------    --------------  -----  \n",
      " 0    Salary   16304 non-null  float64\n",
      " 1   MP        16304 non-null  float64\n",
      " 2   3P        16304 non-null  float64\n",
      " 3   FT        16304 non-null  float64\n",
      " 4   TRB       16304 non-null  float64\n",
      " 5   AST       16304 non-null  float64\n",
      " 6   STL       16304 non-null  float64\n",
      " 7   BLK       16304 non-null  float64\n",
      " 8   TOV       16304 non-null  float64\n",
      " 9   PF        16304 non-null  float64\n",
      " 10  PTS       16304 non-null  float64\n",
      "dtypes: float64(11)\n",
      "memory usage: 1.4 MB\n",
      "<class 'pandas.core.frame.DataFrame'>\n",
      "RangeIndex: 16304 entries, 0 to 16303\n",
      "Data columns (total 1 columns):\n",
      " #   Column     Non-Null Count  Dtype \n",
      "---  ------     --------------  ----- \n",
      " 0   Archetype  16304 non-null  object\n",
      "dtypes: object(1)\n",
      "memory usage: 127.5+ KB\n",
      "None None\n"
     ]
    }
   ],
   "source": [
    "print(Xf.info(), yf.info())"
   ]
  },
  {
   "cell_type": "code",
   "execution_count": 23,
   "id": "c2e2968d-d561-4be0-9fd0-71199b8a1a17",
   "metadata": {},
   "outputs": [],
   "source": [
    "Xf_train, Xf_test, yf_train, yf_test = train_test_split(Xf, yf, test_size = 0.25, random_state = 42)"
   ]
  },
  {
   "cell_type": "code",
   "execution_count": 24,
   "id": "0b2343a0-222e-4290-a984-cbf1bc124623",
   "metadata": {},
   "outputs": [
    {
     "name": "stdout",
     "output_type": "stream",
     "text": [
      "(12228, 11) (4076, 11) (12228, 1) (4076, 1)\n"
     ]
    }
   ],
   "source": [
    "print(Xf_train.shape, Xf_test.shape, yf_train.shape, yf_test.shape)"
   ]
  },
  {
   "cell_type": "code",
   "execution_count": 25,
   "id": "072bdb63-b6df-4202-86dd-0a21ba272795",
   "metadata": {},
   "outputs": [
    {
     "name": "stdout",
     "output_type": "stream",
     "text": [
      "Fitting 10 folds for each of 196 candidates, totalling 1960 fits\n"
     ]
    },
    {
     "name": "stderr",
     "output_type": "stream",
     "text": [
      "C:\\Users\\Furkan Yasin sahın\\AppData\\Local\\Programs\\Python\\Python310\\lib\\site-packages\\sklearn\\neighbors\\_classification.py:200: DataConversionWarning: A column-vector y was passed when a 1d array was expected. Please change the shape of y to (n_samples,), for example using ravel().\n",
      "  return self._fit(X, y)\n"
     ]
    }
   ],
   "source": [
    "knnf = KNeighborsClassifier(metric = \"minkowski\")\n",
    "gridf = GridSearchCV(knnf, param_grid, cv = 10, scoring = \"accuracy\", verbose = 1, n_jobs = -1)\n",
    "grid_search_f = gridf.fit(Xf_train, yf_train)"
   ]
  },
  {
   "cell_type": "code",
   "execution_count": 26,
   "id": "e793c04e-e53f-42be-bf43-03e06d96ad06",
   "metadata": {},
   "outputs": [
    {
     "name": "stdout",
     "output_type": "stream",
     "text": [
      "{'n_neighbors': 15, 'p': 2, 'weights': 'distance'}\n"
     ]
    }
   ],
   "source": [
    "print(grid_search_f.best_params_)"
   ]
  },
  {
   "cell_type": "code",
   "execution_count": 27,
   "id": "9a6756a5-c431-484d-b357-977fea826109",
   "metadata": {},
   "outputs": [
    {
     "name": "stdout",
     "output_type": "stream",
     "text": [
      "Accuracy of optimum model: 0.9551036931266921\n"
     ]
    }
   ],
   "source": [
    "print(\"Accuracy of optimum model:\", grid_search_f.best_score_)"
   ]
  },
  {
   "cell_type": "code",
   "execution_count": 34,
   "id": "e01bd520-7d02-41c1-be85-2a260d6fa63a",
   "metadata": {},
   "outputs": [],
   "source": [
    "accf = []\n",
    "i=0\n",
    "while (i<listlength):\n",
    "    knnf = KNeighborsClassifier(n_neighbors = knum[i], metric = \"minkowski\", p = 2, weights = \"distance\")\n",
    "    cvfscore = cross_validate(knnf, Xf_train, yf_train, scoring = scorers , cv = 10, n_jobs = -1)\n",
    "    accf.append(cvfscore[\"test_accuracy\"].mean())\n",
    "    i+=1"
   ]
  },
  {
   "cell_type": "code",
   "execution_count": 36,
   "id": "f578bdf6-f7cb-465c-a8aa-1194c913d333",
   "metadata": {},
   "outputs": [
    {
     "name": "stdout",
     "output_type": "stream",
     "text": [
      "0.9551036931266921\n"
     ]
    }
   ],
   "source": [
    "print(np.array(accf).max())"
   ]
  },
  {
   "cell_type": "code",
   "execution_count": 37,
   "id": "f37e27ce-5b19-4404-83d4-b83551b52ddc",
   "metadata": {},
   "outputs": [
    {
     "data": {
      "text/plain": [
       "Text(0, 0.5, 'Accuracy')"
      ]
     },
     "execution_count": 37,
     "metadata": {},
     "output_type": "execute_result"
    },
    {
     "data": {
      "image/png": "[encoded data removed]",
      "text/plain": [
       "<Figure size 720x504 with 1 Axes>"
      ]
     },
     "metadata": {
      "needs_background": "light"
     },
     "output_type": "display_data"
    }
   ],
   "source": [
    "plt.figure(figsize=(10,7))\n",
    "plt.plot(knum, accf, marker = \"o\", color = \"blue\", mec = \"black\", mfc = \"yellow\", ms = 8)\n",
    "plt.xlabel(\"Number of Neighbors\")\n",
    "plt.ylabel(\"Accuracy\")"
   ]
  },
  {
   "cell_type": "code",
   "execution_count": 38,
   "id": "4fb7dad0-05d5-4290-b26c-d3f946711b31",
   "metadata": {},
   "outputs": [
    {
     "name": "stderr",
     "output_type": "stream",
     "text": [
      "C:\\Users\\Furkan Yasin sahın\\AppData\\Local\\Programs\\Python\\Python310\\lib\\site-packages\\sklearn\\neighbors\\_classification.py:200: DataConversionWarning: A column-vector y was passed when a 1d array was expected. Please change the shape of y to (n_samples,), for example using ravel().\n",
      "  return self._fit(X, y)\n"
     ]
    }
   ],
   "source": [
    "knnfset = KNeighborsClassifier(n_neighbors = 15, metric = \"minkowski\", p = 2, weights = \"distance\")\n",
    "knnfset = knnfset.fit(Xf_train, yf_train)\n",
    "yfpred = knnfset.predict(Xf_test)"
   ]
  },
  {
   "cell_type": "code",
   "execution_count": 42,
   "id": "2690d19f-de54-4aeb-aae5-354ba420ffbd",
   "metadata": {},
   "outputs": [
    {
     "data": {
      "text/plain": [
       "<AxesSubplot:>"
      ]
     },
     "execution_count": 42,
     "metadata": {},
     "output_type": "execute_result"
    },
    {
     "data": {
      "image/png": "[encoded data removed]",
      "text/plain": [
       "<Figure size 720x360 with 2 Axes>"
      ]
     },
     "metadata": {
      "needs_background": "light"
     },
     "output_type": "display_data"
    }
   ],
   "source": [
    "fcm = confusion_matrix(yf_test, yfpred)\n",
    "plt.figure(figsize = (10,5))\n",
    "sns.heatmap(fcm, annot = True, cmap = \"tab20b\", fmt = \"d\")"
   ]
  },
  {
   "cell_type": "code",
   "execution_count": 41,
   "id": "f6f700ec-e594-4921-b3c8-ec5970a513cc",
   "metadata": {},
   "outputs": [
    {
     "name": "stdout",
     "output_type": "stream",
     "text": [
      "                       precision    recall  f1-score   support\n",
      "\n",
      "     All Star Big Man       0.99      0.93      0.96       161\n",
      "   All Star Playmaker       0.93      0.90      0.91       183\n",
      " All Star Post Scorer       0.93      0.92      0.93       316\n",
      "All Star Sharpshooter       0.95      0.93      0.94       351\n",
      "            Ignorance       0.98      1.00      0.99       972\n",
      "            Playmaker       0.93      0.93      0.93       411\n",
      "          Post Scorer       0.97      0.98      0.97       631\n",
      "        Rim Protector       0.91      0.96      0.93       388\n",
      "         Sharpshooter       0.96      0.96      0.96       510\n",
      "            Superstar       0.97      0.88      0.92       153\n",
      "\n",
      "             accuracy                           0.96      4076\n",
      "            macro avg       0.95      0.94      0.94      4076\n",
      "         weighted avg       0.96      0.96      0.96      4076\n",
      "\n"
     ]
    }
   ],
   "source": [
    "print(classification_report(yf_test, yfpred))"
   ]
  },
  {
   "cell_type": "code",
   "execution_count": null,
   "id": "624078c0-76d1-4e74-851a-05e7d31b57b7",
   "metadata": {},
   "outputs": [],
   "source": []
  }
 ],
 "metadata": {
  "kernelspec": {
   "display_name": "Python 3 (ipykernel)",
   "language": "python",
   "name": "python3"
  },
  "language_info": {
   "codemirror_mode": {
    "name": "ipython",
    "version": 3
   },
   "file_extension": ".py",
   "mimetype": "text/x-python",
   "name": "python",
   "nbconvert_exporter": "python",
   "pygments_lexer": "ipython3",
   "version": "3.10.5"
  }
 },
 "nbformat": 4,
 "nbformat_minor": 5
}
