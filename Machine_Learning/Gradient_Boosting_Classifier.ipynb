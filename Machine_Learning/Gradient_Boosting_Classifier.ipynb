{
 "cells": [
  {
   "cell_type": "code",
   "execution_count": 1,
   "id": "d06328e0-d047-44d4-8394-90894356a09a",
   "metadata": {},
   "outputs": [],
   "source": [
    "import pandas as pd\n",
    "import numpy as np\n",
    "import matplotlib.pyplot as plt\n",
    "import seaborn as sns\n",
    "from sklearn.experimental import enable_halving_search_cv\n",
    "from sklearn.model_selection import train_test_split, HalvingGridSearchCV, GridSearchCV\n",
    "from sklearn.metrics import confusion_matrix, classification_report\n",
    "from sklearn.ensemble import GradientBoostingClassifier"
   ]
  },
  {
   "cell_type": "code",
   "execution_count": 2,
   "id": "88ba426f-c136-463b-bdb0-07726b0aba41",
   "metadata": {},
   "outputs": [
    {
     "name": "stdout",
     "output_type": "stream",
     "text": [
      "<class 'pandas.core.frame.DataFrame'>\n",
      "RangeIndex: 16304 entries, 0 to 16303\n",
      "Data columns (total 28 columns):\n",
      " #   Column         Non-Null Count  Dtype  \n",
      "---  ------         --------------  -----  \n",
      " 0   Unnamed: 0     16304 non-null  int64  \n",
      " 1   Year           16304 non-null  int64  \n",
      " 2   Player         16304 non-null  object \n",
      " 3   Tm             16304 non-null  object \n",
      " 4   G              16304 non-null  float64\n",
      " 5   PER            16304 non-null  float64\n",
      " 6    Salary        16304 non-null  float64\n",
      " 7   MP             16304 non-null  float64\n",
      " 8   3P             16304 non-null  float64\n",
      " 9   2P             16304 non-null  float64\n",
      " 10  FT             16304 non-null  float64\n",
      " 11  TRB            16304 non-null  float64\n",
      " 12  AST            16304 non-null  float64\n",
      " 13  STL            16304 non-null  float64\n",
      " 14  BLK            16304 non-null  float64\n",
      " 15  TOV            16304 non-null  float64\n",
      " 16  PF             16304 non-null  float64\n",
      " 17  PTS            16304 non-null  float64\n",
      " 18  Archetype      16304 non-null  object \n",
      " 19  Pos_C          16304 non-null  int64  \n",
      " 20  Pos_PF         16304 non-null  int64  \n",
      " 21  Pos_PG         16304 non-null  int64  \n",
      " 22  Pos_SF         16304 non-null  int64  \n",
      " 23  Pos_SG         16304 non-null  int64  \n",
      " 24  decades_1980s  16304 non-null  int64  \n",
      " 25  decades_1990s  16304 non-null  int64  \n",
      " 26  decades_2000s  16304 non-null  int64  \n",
      " 27  decades_2010s  16304 non-null  int64  \n",
      "dtypes: float64(14), int64(11), object(3)\n",
      "memory usage: 3.5+ MB\n",
      "None\n"
     ]
    }
   ],
   "source": [
    "nbapset = pd.read_csv(\"nbaprocessed.csv\")\n",
    "print(nbapset.info())"
   ]
  },
  {
   "cell_type": "code",
   "execution_count": 3,
   "id": "ec14e766-f0df-4f28-b904-f80aec20f1ff",
   "metadata": {},
   "outputs": [
    {
     "name": "stdout",
     "output_type": "stream",
     "text": [
      "<class 'pandas.core.frame.DataFrame'>\n",
      "RangeIndex: 16304 entries, 0 to 16303\n",
      "Data columns (total 27 columns):\n",
      " #   Column         Non-Null Count  Dtype  \n",
      "---  ------         --------------  -----  \n",
      " 0   Year           16304 non-null  int64  \n",
      " 1   Player         16304 non-null  object \n",
      " 2   Tm             16304 non-null  object \n",
      " 3   G              16304 non-null  float64\n",
      " 4   PER            16304 non-null  float64\n",
      " 5    Salary        16304 non-null  float64\n",
      " 6   MP             16304 non-null  float64\n",
      " 7   3P             16304 non-null  float64\n",
      " 8   2P             16304 non-null  float64\n",
      " 9   FT             16304 non-null  float64\n",
      " 10  TRB            16304 non-null  float64\n",
      " 11  AST            16304 non-null  float64\n",
      " 12  STL            16304 non-null  float64\n",
      " 13  BLK            16304 non-null  float64\n",
      " 14  TOV            16304 non-null  float64\n",
      " 15  PF             16304 non-null  float64\n",
      " 16  PTS            16304 non-null  float64\n",
      " 17  Archetype      16304 non-null  object \n",
      " 18  Pos_C          16304 non-null  int64  \n",
      " 19  Pos_PF         16304 non-null  int64  \n",
      " 20  Pos_PG         16304 non-null  int64  \n",
      " 21  Pos_SF         16304 non-null  int64  \n",
      " 22  Pos_SG         16304 non-null  int64  \n",
      " 23  decades_1980s  16304 non-null  int64  \n",
      " 24  decades_1990s  16304 non-null  int64  \n",
      " 25  decades_2000s  16304 non-null  int64  \n",
      " 26  decades_2010s  16304 non-null  int64  \n",
      "dtypes: float64(14), int64(10), object(3)\n",
      "memory usage: 3.4+ MB\n",
      "None\n"
     ]
    }
   ],
   "source": [
    "nbapset.drop(columns = nbapset.columns[0], axis = 1, inplace = True)\n",
    "print(nbapset.info())"
   ]
  },
  {
   "cell_type": "code",
   "execution_count": 4,
   "id": "cf73f91a-a1ed-4202-a086-3599851a24cd",
   "metadata": {},
   "outputs": [
    {
     "name": "stdout",
     "output_type": "stream",
     "text": [
      "<class 'pandas.core.frame.DataFrame'>\n",
      "RangeIndex: 16304 entries, 0 to 16303\n",
      "Data columns (total 23 columns):\n",
      " #   Column         Non-Null Count  Dtype  \n",
      "---  ------         --------------  -----  \n",
      " 0   G              16304 non-null  float64\n",
      " 1   PER            16304 non-null  float64\n",
      " 2    Salary        16304 non-null  float64\n",
      " 3   MP             16304 non-null  float64\n",
      " 4   3P             16304 non-null  float64\n",
      " 5   2P             16304 non-null  float64\n",
      " 6   FT             16304 non-null  float64\n",
      " 7   TRB            16304 non-null  float64\n",
      " 8   AST            16304 non-null  float64\n",
      " 9   STL            16304 non-null  float64\n",
      " 10  BLK            16304 non-null  float64\n",
      " 11  TOV            16304 non-null  float64\n",
      " 12  PF             16304 non-null  float64\n",
      " 13  PTS            16304 non-null  float64\n",
      " 14  Pos_C          16304 non-null  int64  \n",
      " 15  Pos_PF         16304 non-null  int64  \n",
      " 16  Pos_PG         16304 non-null  int64  \n",
      " 17  Pos_SF         16304 non-null  int64  \n",
      " 18  Pos_SG         16304 non-null  int64  \n",
      " 19  decades_1980s  16304 non-null  int64  \n",
      " 20  decades_1990s  16304 non-null  int64  \n",
      " 21  decades_2000s  16304 non-null  int64  \n",
      " 22  decades_2010s  16304 non-null  int64  \n",
      "dtypes: float64(14), int64(9)\n",
      "memory usage: 2.9 MB\n",
      "<class 'pandas.core.frame.DataFrame'>\n",
      "RangeIndex: 16304 entries, 0 to 16303\n",
      "Data columns (total 1 columns):\n",
      " #   Column     Non-Null Count  Dtype \n",
      "---  ------     --------------  ----- \n",
      " 0   Archetype  16304 non-null  object\n",
      "dtypes: object(1)\n",
      "memory usage: 127.5+ KB\n",
      "None None\n"
     ]
    }
   ],
   "source": [
    "Xp = nbapset.drop( columns = [\"Year\",\"Player\",\"Tm\",\"Archetype\"], axis = 1)\n",
    "yp = nbapset[[\"Archetype\"]]\n",
    "print(Xp.info(), yp.info())"
   ]
  },
  {
   "cell_type": "code",
   "execution_count": 5,
   "id": "764b68a8-a2db-4e1e-b09c-89eca27daada",
   "metadata": {},
   "outputs": [],
   "source": [
    "Xp_train, Xp_test, yp_train, yp_test = train_test_split(Xp, yp, test_size = 0.25, random_state = 42)"
   ]
  },
  {
   "cell_type": "code",
   "execution_count": 6,
   "id": "228c8753-0d21-4ccb-bc74-8dabe7e56c55",
   "metadata": {},
   "outputs": [
    {
     "name": "stdout",
     "output_type": "stream",
     "text": [
      "(12228, 23) (4076, 23) (12228, 1) (4076, 1)\n"
     ]
    }
   ],
   "source": [
    "print(Xp_train.shape, Xp_test.shape, yp_train.shape, yp_test.shape)"
   ]
  },
  {
   "cell_type": "code",
   "execution_count": 7,
   "id": "58722229-e6bc-4512-87f6-56ae32be8f1a",
   "metadata": {},
   "outputs": [],
   "source": [
    "gb = GradientBoostingClassifier(random_state = 42)\n",
    "param_grid = {\n",
    "    \"learning_rate\" : [0.1, 0.25, 0.5, 1],\n",
    "    \"n_estimators\" : [100,200]\n",
    "}   "
   ]
  },
  {
   "cell_type": "code",
   "execution_count": 8,
   "id": "14e666ce-a09c-437a-9a61-dd1981c4795d",
   "metadata": {
    "tags": []
   },
   "outputs": [
    {
     "name": "stderr",
     "output_type": "stream",
     "text": [
      "C:\\Users\\Furkan Yasin sahın\\AppData\\Local\\Programs\\Python\\Python310\\lib\\site-packages\\sklearn\\utils\\validation.py:1111: DataConversionWarning: A column-vector y was passed when a 1d array was expected. Please change the shape of y to (n_samples, ), for example using ravel().\n",
      "  y = column_or_1d(y, warn=True)\n"
     ]
    },
    {
     "name": "stdout",
     "output_type": "stream",
     "text": [
      "n_iterations: 2\n",
      "n_required_iterations: 2\n",
      "n_possible_iterations: 2\n",
      "min_resources_: 4076\n",
      "max_resources_: 12228\n",
      "aggressive_elimination: False\n",
      "factor: 3\n",
      "----------\n",
      "iter: 0\n",
      "n_candidates: 8\n",
      "n_resources: 4076\n",
      "Fitting 10 folds for each of 8 candidates, totalling 80 fits\n",
      "----------\n",
      "iter: 1\n",
      "n_candidates: 3\n",
      "n_resources: 12228\n",
      "Fitting 10 folds for each of 3 candidates, totalling 30 fits\n"
     ]
    },
    {
     "name": "stderr",
     "output_type": "stream",
     "text": [
      "C:\\Users\\Furkan Yasin sahın\\AppData\\Local\\Programs\\Python\\Python310\\lib\\site-packages\\sklearn\\ensemble\\_gb.py:570: DataConversionWarning: A column-vector y was passed when a 1d array was expected. Please change the shape of y to (n_samples, ), for example using ravel().\n",
      "  y = column_or_1d(y, warn=True)\n"
     ]
    }
   ],
   "source": [
    "hgrid = HalvingGridSearchCV(gb, param_grid, cv = 10, scoring = \"accuracy\", verbose = 1, n_jobs = -1)\n",
    "hgrid_search = hgrid.fit(Xp_train, yp_train)"
   ]
  },
  {
   "cell_type": "code",
   "execution_count": 9,
   "id": "50a2c65e-2ca5-47dd-9c61-c5e66c0a9421",
   "metadata": {},
   "outputs": [],
   "source": [
    "hgres = pd.DataFrame(hgrid_search.cv_results_)"
   ]
  },
  {
   "cell_type": "code",
   "execution_count": 10,
   "id": "9bdf27ce-a2fe-40c5-9365-807fa4b80439",
   "metadata": {},
   "outputs": [
    {
     "name": "stdout",
     "output_type": "stream",
     "text": [
      "<class 'pandas.core.frame.DataFrame'>\n",
      "RangeIndex: 11 entries, 0 to 10\n",
      "Data columns (total 34 columns):\n",
      " #   Column               Non-Null Count  Dtype  \n",
      "---  ------               --------------  -----  \n",
      " 0   iter                 11 non-null     int32  \n",
      " 1   n_resources          11 non-null     int32  \n",
      " 2   mean_fit_time        11 non-null     float64\n",
      " 3   std_fit_time         11 non-null     float64\n",
      " 4   mean_score_time      11 non-null     float64\n",
      " 5   std_score_time       11 non-null     float64\n",
      " 6   param_learning_rate  11 non-null     object \n",
      " 7   param_n_estimators   11 non-null     object \n",
      " 8   params               11 non-null     object \n",
      " 9   split0_test_score    11 non-null     float64\n",
      " 10  split1_test_score    11 non-null     float64\n",
      " 11  split2_test_score    11 non-null     float64\n",
      " 12  split3_test_score    11 non-null     float64\n",
      " 13  split4_test_score    11 non-null     float64\n",
      " 14  split5_test_score    11 non-null     float64\n",
      " 15  split6_test_score    11 non-null     float64\n",
      " 16  split7_test_score    11 non-null     float64\n",
      " 17  split8_test_score    11 non-null     float64\n",
      " 18  split9_test_score    11 non-null     float64\n",
      " 19  mean_test_score      11 non-null     float64\n",
      " 20  std_test_score       11 non-null     float64\n",
      " 21  rank_test_score      11 non-null     int32  \n",
      " 22  split0_train_score   11 non-null     float64\n",
      " 23  split1_train_score   11 non-null     float64\n",
      " 24  split2_train_score   11 non-null     float64\n",
      " 25  split3_train_score   11 non-null     float64\n",
      " 26  split4_train_score   11 non-null     float64\n",
      " 27  split5_train_score   11 non-null     float64\n",
      " 28  split6_train_score   11 non-null     float64\n",
      " 29  split7_train_score   11 non-null     float64\n",
      " 30  split8_train_score   11 non-null     float64\n",
      " 31  split9_train_score   11 non-null     float64\n",
      " 32  mean_train_score     11 non-null     float64\n",
      " 33  std_train_score      11 non-null     float64\n",
      "dtypes: float64(28), int32(3), object(3)\n",
      "memory usage: 2.9+ KB\n",
      "None\n"
     ]
    }
   ],
   "source": [
    "print(hgres.info())"
   ]
  },
  {
   "cell_type": "code",
   "execution_count": 11,
   "id": "7b7483bb-aa35-4b43-849d-9397c6cd6e81",
   "metadata": {},
   "outputs": [
    {
     "data": {
      "text/html": [
       "<div>\n",
       "<style scoped>\n",
       "    .dataframe tbody tr th:only-of-type {\n",
       "        vertical-align: middle;\n",
       "    }\n",
       "\n",
       "    .dataframe tbody tr th {\n",
       "        vertical-align: top;\n",
       "    }\n",
       "\n",
       "    .dataframe thead th {\n",
       "        text-align: right;\n",
       "    }\n",
       "</style>\n",
       "<table border=\"1\" class=\"dataframe\">\n",
       "  <thead>\n",
       "    <tr style=\"text-align: right;\">\n",
       "      <th></th>\n",
       "      <th>iter</th>\n",
       "      <th>n_resources</th>\n",
       "      <th>mean_fit_time</th>\n",
       "      <th>params</th>\n",
       "      <th>mean_test_score</th>\n",
       "      <th>std_test_score</th>\n",
       "      <th>rank_test_score</th>\n",
       "    </tr>\n",
       "  </thead>\n",
       "  <tbody>\n",
       "    <tr>\n",
       "      <th>0</th>\n",
       "      <td>0</td>\n",
       "      <td>4076</td>\n",
       "      <td>25.300256</td>\n",
       "      <td>{'learning_rate': 0.1, 'n_estimators': 100}</td>\n",
       "      <td>0.956757</td>\n",
       "      <td>0.006519</td>\n",
       "      <td>6</td>\n",
       "    </tr>\n",
       "    <tr>\n",
       "      <th>1</th>\n",
       "      <td>0</td>\n",
       "      <td>4076</td>\n",
       "      <td>50.360268</td>\n",
       "      <td>{'learning_rate': 0.1, 'n_estimators': 200}</td>\n",
       "      <td>0.956511</td>\n",
       "      <td>0.007537</td>\n",
       "      <td>7</td>\n",
       "    </tr>\n",
       "    <tr>\n",
       "      <th>2</th>\n",
       "      <td>0</td>\n",
       "      <td>4076</td>\n",
       "      <td>25.453906</td>\n",
       "      <td>{'learning_rate': 0.25, 'n_estimators': 100}</td>\n",
       "      <td>0.957985</td>\n",
       "      <td>0.005651</td>\n",
       "      <td>4</td>\n",
       "    </tr>\n",
       "    <tr>\n",
       "      <th>3</th>\n",
       "      <td>0</td>\n",
       "      <td>4076</td>\n",
       "      <td>50.560327</td>\n",
       "      <td>{'learning_rate': 0.25, 'n_estimators': 200}</td>\n",
       "      <td>0.957248</td>\n",
       "      <td>0.004688</td>\n",
       "      <td>5</td>\n",
       "    </tr>\n",
       "    <tr>\n",
       "      <th>4</th>\n",
       "      <td>0</td>\n",
       "      <td>4076</td>\n",
       "      <td>24.520099</td>\n",
       "      <td>{'learning_rate': 0.5, 'n_estimators': 100}</td>\n",
       "      <td>0.948649</td>\n",
       "      <td>0.013611</td>\n",
       "      <td>9</td>\n",
       "    </tr>\n",
       "    <tr>\n",
       "      <th>5</th>\n",
       "      <td>0</td>\n",
       "      <td>4076</td>\n",
       "      <td>44.818894</td>\n",
       "      <td>{'learning_rate': 0.5, 'n_estimators': 200}</td>\n",
       "      <td>0.949631</td>\n",
       "      <td>0.017243</td>\n",
       "      <td>8</td>\n",
       "    </tr>\n",
       "    <tr>\n",
       "      <th>6</th>\n",
       "      <td>0</td>\n",
       "      <td>4076</td>\n",
       "      <td>26.449474</td>\n",
       "      <td>{'learning_rate': 1, 'n_estimators': 100}</td>\n",
       "      <td>0.540541</td>\n",
       "      <td>0.366288</td>\n",
       "      <td>10</td>\n",
       "    </tr>\n",
       "    <tr>\n",
       "      <th>7</th>\n",
       "      <td>0</td>\n",
       "      <td>4076</td>\n",
       "      <td>60.861461</td>\n",
       "      <td>{'learning_rate': 1, 'n_estimators': 200}</td>\n",
       "      <td>0.533661</td>\n",
       "      <td>0.361840</td>\n",
       "      <td>11</td>\n",
       "    </tr>\n",
       "    <tr>\n",
       "      <th>8</th>\n",
       "      <td>1</td>\n",
       "      <td>12228</td>\n",
       "      <td>104.580221</td>\n",
       "      <td>{'learning_rate': 0.1, 'n_estimators': 100}</td>\n",
       "      <td>0.976693</td>\n",
       "      <td>0.004220</td>\n",
       "      <td>3</td>\n",
       "    </tr>\n",
       "    <tr>\n",
       "      <th>9</th>\n",
       "      <td>1</td>\n",
       "      <td>12228</td>\n",
       "      <td>217.209256</td>\n",
       "      <td>{'learning_rate': 0.25, 'n_estimators': 200}</td>\n",
       "      <td>0.979310</td>\n",
       "      <td>0.004247</td>\n",
       "      <td>1</td>\n",
       "    </tr>\n",
       "    <tr>\n",
       "      <th>10</th>\n",
       "      <td>1</td>\n",
       "      <td>12228</td>\n",
       "      <td>103.933700</td>\n",
       "      <td>{'learning_rate': 0.25, 'n_estimators': 100}</td>\n",
       "      <td>0.978492</td>\n",
       "      <td>0.004464</td>\n",
       "      <td>2</td>\n",
       "    </tr>\n",
       "  </tbody>\n",
       "</table>\n",
       "</div>"
      ],
      "text/plain": [
       "    iter  n_resources  mean_fit_time  \\\n",
       "0      0         4076      25.300256   \n",
       "1      0         4076      50.360268   \n",
       "2      0         4076      25.453906   \n",
       "3      0         4076      50.560327   \n",
       "4      0         4076      24.520099   \n",
       "5      0         4076      44.818894   \n",
       "6      0         4076      26.449474   \n",
       "7      0         4076      60.861461   \n",
       "8      1        12228     104.580221   \n",
       "9      1        12228     217.209256   \n",
       "10     1        12228     103.933700   \n",
       "\n",
       "                                          params  mean_test_score  \\\n",
       "0    {'learning_rate': 0.1, 'n_estimators': 100}         0.956757   \n",
       "1    {'learning_rate': 0.1, 'n_estimators': 200}         0.956511   \n",
       "2   {'learning_rate': 0.25, 'n_estimators': 100}         0.957985   \n",
       "3   {'learning_rate': 0.25, 'n_estimators': 200}         0.957248   \n",
       "4    {'learning_rate': 0.5, 'n_estimators': 100}         0.948649   \n",
       "5    {'learning_rate': 0.5, 'n_estimators': 200}         0.949631   \n",
       "6      {'learning_rate': 1, 'n_estimators': 100}         0.540541   \n",
       "7      {'learning_rate': 1, 'n_estimators': 200}         0.533661   \n",
       "8    {'learning_rate': 0.1, 'n_estimators': 100}         0.976693   \n",
       "9   {'learning_rate': 0.25, 'n_estimators': 200}         0.979310   \n",
       "10  {'learning_rate': 0.25, 'n_estimators': 100}         0.978492   \n",
       "\n",
       "    std_test_score  rank_test_score  \n",
       "0         0.006519                6  \n",
       "1         0.007537                7  \n",
       "2         0.005651                4  \n",
       "3         0.004688                5  \n",
       "4         0.013611                9  \n",
       "5         0.017243                8  \n",
       "6         0.366288               10  \n",
       "7         0.361840               11  \n",
       "8         0.004220                3  \n",
       "9         0.004247                1  \n",
       "10        0.004464                2  "
      ]
     },
     "metadata": {},
     "output_type": "display_data"
    }
   ],
   "source": [
    "display(hgres[[\"iter\",\"n_resources\",\"mean_fit_time\",\"params\",\"mean_test_score\",\"std_test_score\",\"rank_test_score\"]])"
   ]
  },
  {
   "cell_type": "code",
   "execution_count": 20,
   "id": "74c5cd43-1f2c-444e-90e7-0ccd844261a9",
   "metadata": {
    "tags": []
   },
   "outputs": [
    {
     "name": "stdout",
     "output_type": "stream",
     "text": [
      "Fitting 10 folds for each of 6 candidates, totalling 60 fits\n"
     ]
    },
    {
     "name": "stderr",
     "output_type": "stream",
     "text": [
      "C:\\Users\\Furkan Yasin sahın\\AppData\\Local\\Programs\\Python\\Python310\\lib\\site-packages\\sklearn\\ensemble\\_gb.py:570: DataConversionWarning: A column-vector y was passed when a 1d array was expected. Please change the shape of y to (n_samples, ), for example using ravel().\n",
      "  y = column_or_1d(y, warn=True)\n"
     ]
    }
   ],
   "source": [
    "gb2 = GradientBoostingClassifier(n_estimators = 100, random_state = 42)\n",
    "param_grid2 = {\n",
    "    \"learning_rate\" :  [0.025, 0.05, 0.1, 0.25, 0.5, 1],\n",
    "     }\n",
    "grid2 = GridSearchCV(gb2, param_grid2, cv = 10, scoring = \"accuracy\", verbose = 1, n_jobs = -1)\n",
    "grid_search2 = grid2.fit(Xp_train, yp_train)"
   ]
  },
  {
   "cell_type": "code",
   "execution_count": 21,
   "id": "8439ddc9-2e3f-4c45-9c0b-a8a90f3cb0c3",
   "metadata": {},
   "outputs": [
    {
     "name": "stdout",
     "output_type": "stream",
     "text": [
      "<class 'pandas.core.frame.DataFrame'>\n",
      "RangeIndex: 6 entries, 0 to 5\n",
      "Data columns (total 19 columns):\n",
      " #   Column               Non-Null Count  Dtype  \n",
      "---  ------               --------------  -----  \n",
      " 0   mean_fit_time        6 non-null      float64\n",
      " 1   std_fit_time         6 non-null      float64\n",
      " 2   mean_score_time      6 non-null      float64\n",
      " 3   std_score_time       6 non-null      float64\n",
      " 4   param_learning_rate  6 non-null      object \n",
      " 5   params               6 non-null      object \n",
      " 6   split0_test_score    6 non-null      float64\n",
      " 7   split1_test_score    6 non-null      float64\n",
      " 8   split2_test_score    6 non-null      float64\n",
      " 9   split3_test_score    6 non-null      float64\n",
      " 10  split4_test_score    6 non-null      float64\n",
      " 11  split5_test_score    6 non-null      float64\n",
      " 12  split6_test_score    6 non-null      float64\n",
      " 13  split7_test_score    6 non-null      float64\n",
      " 14  split8_test_score    6 non-null      float64\n",
      " 15  split9_test_score    6 non-null      float64\n",
      " 16  mean_test_score      6 non-null      float64\n",
      " 17  std_test_score       6 non-null      float64\n",
      " 18  rank_test_score      6 non-null      int32  \n",
      "dtypes: float64(16), int32(1), object(2)\n",
      "memory usage: 1016.0+ bytes\n",
      "None\n"
     ]
    }
   ],
   "source": [
    "gsres = pd.DataFrame(grid_search2.cv_results_)\n",
    "print(gsres.info())"
   ]
  },
  {
   "cell_type": "code",
   "execution_count": 23,
   "id": "78752e34-6e6f-4502-bd9f-959a7a91fb80",
   "metadata": {},
   "outputs": [
    {
     "data": {
      "text/html": [
       "<div>\n",
       "<style scoped>\n",
       "    .dataframe tbody tr th:only-of-type {\n",
       "        vertical-align: middle;\n",
       "    }\n",
       "\n",
       "    .dataframe tbody tr th {\n",
       "        vertical-align: top;\n",
       "    }\n",
       "\n",
       "    .dataframe thead th {\n",
       "        text-align: right;\n",
       "    }\n",
       "</style>\n",
       "<table border=\"1\" class=\"dataframe\">\n",
       "  <thead>\n",
       "    <tr style=\"text-align: right;\">\n",
       "      <th></th>\n",
       "      <th>mean_fit_time</th>\n",
       "      <th>params</th>\n",
       "      <th>mean_test_score</th>\n",
       "      <th>std_test_score</th>\n",
       "      <th>rank_test_score</th>\n",
       "    </tr>\n",
       "  </thead>\n",
       "  <tbody>\n",
       "    <tr>\n",
       "      <th>0</th>\n",
       "      <td>95.210992</td>\n",
       "      <td>{'learning_rate': 0.025}</td>\n",
       "      <td>0.938338</td>\n",
       "      <td>0.006911</td>\n",
       "      <td>5</td>\n",
       "    </tr>\n",
       "    <tr>\n",
       "      <th>1</th>\n",
       "      <td>95.324179</td>\n",
       "      <td>{'learning_rate': 0.05}</td>\n",
       "      <td>0.963281</td>\n",
       "      <td>0.005367</td>\n",
       "      <td>4</td>\n",
       "    </tr>\n",
       "    <tr>\n",
       "      <th>2</th>\n",
       "      <td>94.978562</td>\n",
       "      <td>{'learning_rate': 0.1}</td>\n",
       "      <td>0.976775</td>\n",
       "      <td>0.004219</td>\n",
       "      <td>2</td>\n",
       "    </tr>\n",
       "    <tr>\n",
       "      <th>3</th>\n",
       "      <td>95.553496</td>\n",
       "      <td>{'learning_rate': 0.25}</td>\n",
       "      <td>0.978492</td>\n",
       "      <td>0.004464</td>\n",
       "      <td>1</td>\n",
       "    </tr>\n",
       "    <tr>\n",
       "      <th>4</th>\n",
       "      <td>98.133770</td>\n",
       "      <td>{'learning_rate': 0.5}</td>\n",
       "      <td>0.967616</td>\n",
       "      <td>0.008259</td>\n",
       "      <td>3</td>\n",
       "    </tr>\n",
       "    <tr>\n",
       "      <th>5</th>\n",
       "      <td>114.852977</td>\n",
       "      <td>{'learning_rate': 1}</td>\n",
       "      <td>0.276028</td>\n",
       "      <td>0.289361</td>\n",
       "      <td>6</td>\n",
       "    </tr>\n",
       "  </tbody>\n",
       "</table>\n",
       "</div>"
      ],
      "text/plain": [
       "   mean_fit_time                    params  mean_test_score  std_test_score  \\\n",
       "0      95.210992  {'learning_rate': 0.025}         0.938338        0.006911   \n",
       "1      95.324179   {'learning_rate': 0.05}         0.963281        0.005367   \n",
       "2      94.978562    {'learning_rate': 0.1}         0.976775        0.004219   \n",
       "3      95.553496   {'learning_rate': 0.25}         0.978492        0.004464   \n",
       "4      98.133770    {'learning_rate': 0.5}         0.967616        0.008259   \n",
       "5     114.852977      {'learning_rate': 1}         0.276028        0.289361   \n",
       "\n",
       "   rank_test_score  \n",
       "0                5  \n",
       "1                4  \n",
       "2                2  \n",
       "3                1  \n",
       "4                3  \n",
       "5                6  "
      ]
     },
     "metadata": {},
     "output_type": "display_data"
    }
   ],
   "source": [
    "display(gsres[[\"mean_fit_time\",\"params\",\"mean_test_score\",\"std_test_score\",\"rank_test_score\"]])"
   ]
  },
  {
   "cell_type": "code",
   "execution_count": 173,
   "id": "e782b4ad-22e3-4cea-9118-516fed44a93a",
   "metadata": {},
   "outputs": [
    {
     "name": "stdout",
     "output_type": "stream",
     "text": [
      "    mean_fit_time\n",
      "0       25.300256\n",
      "1       50.360268\n",
      "2       25.453906\n",
      "3       50.560327\n",
      "4       24.520099\n",
      "5       44.818894\n",
      "6       26.449474\n",
      "7       60.861461\n",
      "8      104.580221\n",
      "9      217.209256\n",
      "10     103.933700\n",
      "[25.3, 50.36, 25.45, 50.56, 24.52, 44.82, 26.45, 60.86, 104.58, 217.21, 103.93]\n"
     ]
    }
   ],
   "source": [
    "time = [25.30, 50.36, 25.45, 50.56, 24.52, 44.82, 26.45, 60.86, 104.58, 217.21, 103.93]\n",
    "print(hgres[[\"mean_fit_time\"]])\n",
    "print(time)"
   ]
  },
  {
   "cell_type": "code",
   "execution_count": 174,
   "id": "5ad0de90-2ada-4d51-901e-c36c95987c45",
   "metadata": {},
   "outputs": [
    {
     "data": {
      "text/plain": [
       "Text(0, 0.5, 'Number of estimators')"
      ]
     },
     "execution_count": 174,
     "metadata": {},
     "output_type": "execute_result"
    },
    {
     "data": {
      "image/png": "[encoded data removed]",
      "text/plain": [
       "<Figure size 1080x504 with 2 Axes>"
      ]
     },
     "metadata": {
      "needs_background": "light"
     },
     "output_type": "display_data"
    }
   ],
   "source": [
    "fig, axes = plt.subplots(2,1, figsize = (15,7))\n",
    "sns.barplot(ax = axes[0], x = time, y = \"mean_test_score\", data = hgres, hue = \"param_learning_rate\", palette = [\"red\",\"orange\",\"green\",\"blue\"])\n",
    "axes[0].legend(bbox_to_anchor =(1.095,0.95), loc = \"upper right\",title = \"learning rate\", edgecolor = \"#1984b3\")\n",
    "sns.barplot(ax = axes[1], x = time, y = \"param_n_estimators\", data = hgres, hue = \"n_resources\", palette = [\"orange\",\"purple\"])\n",
    "axes[1].legend(edgecolor = \"#1984b3\", title =\"n_resources\")\n",
    "axes[0].set_ylabel(\"Accuracy\")\n",
    "axes[0].set_xlabel(\"Fitting time\")\n",
    "axes[1].set_xlabel(\"Fitting time\")\n",
    "axes[1].set_ylabel(\"Number of estimators\")"
   ]
  },
  {
   "cell_type": "code",
   "execution_count": 170,
   "id": "432af297-e7b1-4333-8d84-3ed4eaba1611",
   "metadata": {
    "collapsed": true,
    "jupyter": {
     "outputs_hidden": true
    },
    "tags": []
   },
   "outputs": [
    {
     "name": "stderr",
     "output_type": "stream",
     "text": [
      "C:\\Users\\Furkan Yasin sahın\\AppData\\Local\\Programs\\Python\\Python310\\lib\\site-packages\\sklearn\\ensemble\\_gb.py:570: DataConversionWarning: A column-vector y was passed when a 1d array was expected. Please change the shape of y to (n_samples, ), for example using ravel().\n",
      "  y = column_or_1d(y, warn=True)\n"
     ]
    }
   ],
   "source": [
    "gradboostp = GradientBoostingClassifier(n_estimators = 100, learning_rate = 0.25, random_state = 42)\n",
    "gradboostp = gradboostp.fit(Xp_train, yp_train)\n",
    "ypred = gradboostp.predict(Xp_test)"
   ]
  },
  {
   "cell_type": "code",
   "execution_count": 71,
   "id": "bbbae75b-f16d-4f53-a69a-6370f2dfab53",
   "metadata": {},
   "outputs": [
    {
     "data": {
      "text/plain": [
       "<AxesSubplot:>"
      ]
     },
     "execution_count": 71,
     "metadata": {},
     "output_type": "execute_result"
    },
    {
     "data": {
      "image/png": "[encoded data removed]",
      "text/plain": [
       "<Figure size 720x360 with 2 Axes>"
      ]
     },
     "metadata": {
      "needs_background": "light"
     },
     "output_type": "display_data"
    }
   ],
   "source": [
    "cm = confusion_matrix(yp_test, ypred)\n",
    "plt.figure(figsize = (10,5))\n",
    "sns.heatmap(cm, annot = True, cmap = \"tab20b\", fmt = \"d\")"
   ]
  },
  {
   "cell_type": "code",
   "execution_count": 72,
   "id": "644349ca-b9f8-4415-8ecd-5f876b0403f6",
   "metadata": {},
   "outputs": [
    {
     "name": "stdout",
     "output_type": "stream",
     "text": [
      "                       precision    recall  f1-score   support\n",
      "\n",
      "     All Star Big Man       0.98      0.93      0.96       161\n",
      "   All Star Playmaker       0.94      0.97      0.95       183\n",
      " All Star Post Scorer       0.98      0.97      0.98       316\n",
      "All Star Sharpshooter       0.98      0.97      0.97       351\n",
      "            Ignorance       0.99      0.99      0.99       972\n",
      "            Playmaker       0.97      0.98      0.97       411\n",
      "          Post Scorer       0.98      0.99      0.99       631\n",
      "        Rim Protector       0.96      0.97      0.97       388\n",
      "         Sharpshooter       0.99      0.98      0.99       510\n",
      "            Superstar       0.96      0.94      0.95       153\n",
      "\n",
      "             accuracy                           0.98      4076\n",
      "            macro avg       0.97      0.97      0.97      4076\n",
      "         weighted avg       0.98      0.98      0.98      4076\n",
      "\n"
     ]
    }
   ],
   "source": [
    "print(classification_report(yp_test, ypred))"
   ]
  },
  {
   "cell_type": "code",
   "execution_count": 2,
   "id": "efc0251a-4935-45b4-854f-eff31c475ba5",
   "metadata": {},
   "outputs": [
    {
     "name": "stdout",
     "output_type": "stream",
     "text": [
      "<class 'pandas.core.frame.DataFrame'>\n",
      "RangeIndex: 16304 entries, 0 to 16303\n",
      "Data columns (total 13 columns):\n",
      " #   Column      Non-Null Count  Dtype  \n",
      "---  ------      --------------  -----  \n",
      " 0   Unnamed: 0  16304 non-null  int64  \n",
      " 1    Salary     16304 non-null  float64\n",
      " 2   MP          16304 non-null  float64\n",
      " 3   3P          16304 non-null  float64\n",
      " 4   FT          16304 non-null  float64\n",
      " 5   TRB         16304 non-null  float64\n",
      " 6   AST         16304 non-null  float64\n",
      " 7   STL         16304 non-null  float64\n",
      " 8   BLK         16304 non-null  float64\n",
      " 9   TOV         16304 non-null  float64\n",
      " 10  PF          16304 non-null  float64\n",
      " 11  PTS         16304 non-null  float64\n",
      " 12  Archetype   16304 non-null  object \n",
      "dtypes: float64(11), int64(1), object(1)\n",
      "memory usage: 1.6+ MB\n",
      "None\n"
     ]
    }
   ],
   "source": [
    "nbafset = pd.read_csv(\"nbafeatset.csv\")\n",
    "print(nbafset.info())"
   ]
  },
  {
   "cell_type": "code",
   "execution_count": 3,
   "id": "ac5df466-fcca-462f-ba57-acf422ca56fb",
   "metadata": {},
   "outputs": [
    {
     "name": "stdout",
     "output_type": "stream",
     "text": [
      "<class 'pandas.core.frame.DataFrame'>\n",
      "RangeIndex: 16304 entries, 0 to 16303\n",
      "Data columns (total 12 columns):\n",
      " #   Column     Non-Null Count  Dtype  \n",
      "---  ------     --------------  -----  \n",
      " 0    Salary    16304 non-null  float64\n",
      " 1   MP         16304 non-null  float64\n",
      " 2   3P         16304 non-null  float64\n",
      " 3   FT         16304 non-null  float64\n",
      " 4   TRB        16304 non-null  float64\n",
      " 5   AST        16304 non-null  float64\n",
      " 6   STL        16304 non-null  float64\n",
      " 7   BLK        16304 non-null  float64\n",
      " 8   TOV        16304 non-null  float64\n",
      " 9   PF         16304 non-null  float64\n",
      " 10  PTS        16304 non-null  float64\n",
      " 11  Archetype  16304 non-null  object \n",
      "dtypes: float64(11), object(1)\n",
      "memory usage: 1.5+ MB\n",
      "None\n"
     ]
    }
   ],
   "source": [
    "nbafset.drop(columns = nbafset.columns[0], axis = 1, inplace = True)\n",
    "print(nbafset.info())"
   ]
  },
  {
   "cell_type": "code",
   "execution_count": 4,
   "id": "83c648e9-4eae-44fa-be93-4ab7ea749a72",
   "metadata": {},
   "outputs": [],
   "source": [
    "Xf = nbafset.drop(columns = \"Archetype\", axis = 1)\n",
    "yf = nbafset[[\"Archetype\"]]"
   ]
  },
  {
   "cell_type": "code",
   "execution_count": 5,
   "id": "57577d7b-4c84-4b5c-90a2-63d393fd364d",
   "metadata": {},
   "outputs": [
    {
     "name": "stdout",
     "output_type": "stream",
     "text": [
      "<class 'pandas.core.frame.DataFrame'>\n",
      "RangeIndex: 16304 entries, 0 to 16303\n",
      "Data columns (total 11 columns):\n",
      " #   Column    Non-Null Count  Dtype  \n",
      "---  ------    --------------  -----  \n",
      " 0    Salary   16304 non-null  float64\n",
      " 1   MP        16304 non-null  float64\n",
      " 2   3P        16304 non-null  float64\n",
      " 3   FT        16304 non-null  float64\n",
      " 4   TRB       16304 non-null  float64\n",
      " 5   AST       16304 non-null  float64\n",
      " 6   STL       16304 non-null  float64\n",
      " 7   BLK       16304 non-null  float64\n",
      " 8   TOV       16304 non-null  float64\n",
      " 9   PF        16304 non-null  float64\n",
      " 10  PTS       16304 non-null  float64\n",
      "dtypes: float64(11)\n",
      "memory usage: 1.4 MB\n",
      "<class 'pandas.core.frame.DataFrame'>\n",
      "RangeIndex: 16304 entries, 0 to 16303\n",
      "Data columns (total 1 columns):\n",
      " #   Column     Non-Null Count  Dtype \n",
      "---  ------     --------------  ----- \n",
      " 0   Archetype  16304 non-null  object\n",
      "dtypes: object(1)\n",
      "memory usage: 127.5+ KB\n",
      "None None\n"
     ]
    }
   ],
   "source": [
    "print(Xf.info(), yf.info())"
   ]
  },
  {
   "cell_type": "code",
   "execution_count": 6,
   "id": "d66ffa69-7e4a-4151-b202-aa3d5c7b3efc",
   "metadata": {},
   "outputs": [],
   "source": [
    "Xf_train, Xf_test, yf_train, yf_test = train_test_split(Xf, yf, test_size = 0.25, random_state = 42)"
   ]
  },
  {
   "cell_type": "code",
   "execution_count": 7,
   "id": "c9ea7972-1dd6-4eb4-aa44-34ebcfb009b1",
   "metadata": {},
   "outputs": [
    {
     "name": "stdout",
     "output_type": "stream",
     "text": [
      "(12228, 11) (4076, 11) (12228, 1) (4076, 1)\n"
     ]
    }
   ],
   "source": [
    "print(Xf_train.shape, Xf_test.shape, yf_train.shape, yf_test.shape)"
   ]
  },
  {
   "cell_type": "code",
   "execution_count": 8,
   "id": "d4141c98-8a9f-43b4-b60b-de16438a52d9",
   "metadata": {},
   "outputs": [
    {
     "name": "stderr",
     "output_type": "stream",
     "text": [
      "C:\\Users\\Furkan Yasin sahın\\AppData\\Local\\Programs\\Python\\Python310\\lib\\site-packages\\sklearn\\utils\\validation.py:1111: DataConversionWarning: A column-vector y was passed when a 1d array was expected. Please change the shape of y to (n_samples, ), for example using ravel().\n",
      "  y = column_or_1d(y, warn=True)\n"
     ]
    },
    {
     "name": "stdout",
     "output_type": "stream",
     "text": [
      "n_iterations: 2\n",
      "n_required_iterations: 2\n",
      "n_possible_iterations: 2\n",
      "min_resources_: 4076\n",
      "max_resources_: 12228\n",
      "aggressive_elimination: False\n",
      "factor: 3\n",
      "----------\n",
      "iter: 0\n",
      "n_candidates: 7\n",
      "n_resources: 4076\n",
      "Fitting 10 folds for each of 7 candidates, totalling 70 fits\n",
      "----------\n",
      "iter: 1\n",
      "n_candidates: 3\n",
      "n_resources: 12228\n",
      "Fitting 10 folds for each of 3 candidates, totalling 30 fits\n"
     ]
    },
    {
     "name": "stderr",
     "output_type": "stream",
     "text": [
      "C:\\Users\\Furkan Yasin sahın\\AppData\\Local\\Programs\\Python\\Python310\\lib\\site-packages\\sklearn\\ensemble\\_gb.py:570: DataConversionWarning: A column-vector y was passed when a 1d array was expected. Please change the shape of y to (n_samples, ), for example using ravel().\n",
      "  y = column_or_1d(y, warn=True)\n"
     ]
    }
   ],
   "source": [
    "gbcf = GradientBoostingClassifier(n_estimators = 100, random_state = 42)\n",
    "param_grid_f = {\n",
    "    \"learning_rate\" : [0.025, 0.05, 0.1, 0.25, 0.5 ,0.75, 1]\n",
    "}\n",
    "phgs = HalvingGridSearchCV(gbcf, param_grid_f, cv = 10, scoring = \"accuracy\", verbose = 1, n_jobs = -1)\n",
    "phgs_search = phgs.fit(Xf_train, yf_train)"
   ]
  },
  {
   "cell_type": "code",
   "execution_count": 9,
   "id": "419961fe-14ba-4d33-a73e-21d868297fd5",
   "metadata": {},
   "outputs": [
    {
     "name": "stdout",
     "output_type": "stream",
     "text": [
      "<class 'pandas.core.frame.DataFrame'>\n",
      "RangeIndex: 10 entries, 0 to 9\n",
      "Data columns (total 33 columns):\n",
      " #   Column               Non-Null Count  Dtype  \n",
      "---  ------               --------------  -----  \n",
      " 0   iter                 10 non-null     int32  \n",
      " 1   n_resources          10 non-null     int32  \n",
      " 2   mean_fit_time        10 non-null     float64\n",
      " 3   std_fit_time         10 non-null     float64\n",
      " 4   mean_score_time      10 non-null     float64\n",
      " 5   std_score_time       10 non-null     float64\n",
      " 6   param_learning_rate  10 non-null     object \n",
      " 7   params               10 non-null     object \n",
      " 8   split0_test_score    10 non-null     float64\n",
      " 9   split1_test_score    10 non-null     float64\n",
      " 10  split2_test_score    10 non-null     float64\n",
      " 11  split3_test_score    10 non-null     float64\n",
      " 12  split4_test_score    10 non-null     float64\n",
      " 13  split5_test_score    10 non-null     float64\n",
      " 14  split6_test_score    10 non-null     float64\n",
      " 15  split7_test_score    10 non-null     float64\n",
      " 16  split8_test_score    10 non-null     float64\n",
      " 17  split9_test_score    10 non-null     float64\n",
      " 18  mean_test_score      10 non-null     float64\n",
      " 19  std_test_score       10 non-null     float64\n",
      " 20  rank_test_score      10 non-null     int32  \n",
      " 21  split0_train_score   10 non-null     float64\n",
      " 22  split1_train_score   10 non-null     float64\n",
      " 23  split2_train_score   10 non-null     float64\n",
      " 24  split3_train_score   10 non-null     float64\n",
      " 25  split4_train_score   10 non-null     float64\n",
      " 26  split5_train_score   10 non-null     float64\n",
      " 27  split6_train_score   10 non-null     float64\n",
      " 28  split7_train_score   10 non-null     float64\n",
      " 29  split8_train_score   10 non-null     float64\n",
      " 30  split9_train_score   10 non-null     float64\n",
      " 31  mean_train_score     10 non-null     float64\n",
      " 32  std_train_score      10 non-null     float64\n",
      "dtypes: float64(28), int32(3), object(2)\n",
      "memory usage: 2.6+ KB\n",
      "None\n"
     ]
    }
   ],
   "source": [
    "hgsfres = pd.DataFrame(phgs_search.cv_results_)\n",
    "print(hgsfres.info())"
   ]
  },
  {
   "cell_type": "code",
   "execution_count": 11,
   "id": "7dec8bd3-9c1d-4966-af1f-abcd8e9b105a",
   "metadata": {},
   "outputs": [
    {
     "data": {
      "text/html": [
       "<div>\n",
       "<style scoped>\n",
       "    .dataframe tbody tr th:only-of-type {\n",
       "        vertical-align: middle;\n",
       "    }\n",
       "\n",
       "    .dataframe tbody tr th {\n",
       "        vertical-align: top;\n",
       "    }\n",
       "\n",
       "    .dataframe thead th {\n",
       "        text-align: right;\n",
       "    }\n",
       "</style>\n",
       "<table border=\"1\" class=\"dataframe\">\n",
       "  <thead>\n",
       "    <tr style=\"text-align: right;\">\n",
       "      <th></th>\n",
       "      <th>iter</th>\n",
       "      <th>n_resources</th>\n",
       "      <th>mean_fit_time</th>\n",
       "      <th>params</th>\n",
       "      <th>mean_test_score</th>\n",
       "      <th>std_test_score</th>\n",
       "      <th>rank_test_score</th>\n",
       "    </tr>\n",
       "  </thead>\n",
       "  <tbody>\n",
       "    <tr>\n",
       "      <th>0</th>\n",
       "      <td>0</td>\n",
       "      <td>4076</td>\n",
       "      <td>17.145947</td>\n",
       "      <td>{'learning_rate': 0.025}</td>\n",
       "      <td>0.933661</td>\n",
       "      <td>0.015847</td>\n",
       "      <td>8</td>\n",
       "    </tr>\n",
       "    <tr>\n",
       "      <th>1</th>\n",
       "      <td>0</td>\n",
       "      <td>4076</td>\n",
       "      <td>16.940618</td>\n",
       "      <td>{'learning_rate': 0.05}</td>\n",
       "      <td>0.954300</td>\n",
       "      <td>0.012393</td>\n",
       "      <td>7</td>\n",
       "    </tr>\n",
       "    <tr>\n",
       "      <th>2</th>\n",
       "      <td>0</td>\n",
       "      <td>4076</td>\n",
       "      <td>16.946634</td>\n",
       "      <td>{'learning_rate': 0.1}</td>\n",
       "      <td>0.961425</td>\n",
       "      <td>0.006505</td>\n",
       "      <td>5</td>\n",
       "    </tr>\n",
       "    <tr>\n",
       "      <th>3</th>\n",
       "      <td>0</td>\n",
       "      <td>4076</td>\n",
       "      <td>20.185659</td>\n",
       "      <td>{'learning_rate': 0.25}</td>\n",
       "      <td>0.962899</td>\n",
       "      <td>0.005861</td>\n",
       "      <td>4</td>\n",
       "    </tr>\n",
       "    <tr>\n",
       "      <th>4</th>\n",
       "      <td>0</td>\n",
       "      <td>4076</td>\n",
       "      <td>20.417949</td>\n",
       "      <td>{'learning_rate': 0.5}</td>\n",
       "      <td>0.958231</td>\n",
       "      <td>0.006949</td>\n",
       "      <td>6</td>\n",
       "    </tr>\n",
       "    <tr>\n",
       "      <th>5</th>\n",
       "      <td>0</td>\n",
       "      <td>4076</td>\n",
       "      <td>27.605631</td>\n",
       "      <td>{'learning_rate': 0.75}</td>\n",
       "      <td>0.508354</td>\n",
       "      <td>0.393428</td>\n",
       "      <td>9</td>\n",
       "    </tr>\n",
       "    <tr>\n",
       "      <th>6</th>\n",
       "      <td>0</td>\n",
       "      <td>4076</td>\n",
       "      <td>24.334827</td>\n",
       "      <td>{'learning_rate': 1}</td>\n",
       "      <td>0.335381</td>\n",
       "      <td>0.302703</td>\n",
       "      <td>10</td>\n",
       "    </tr>\n",
       "    <tr>\n",
       "      <th>7</th>\n",
       "      <td>1</td>\n",
       "      <td>12228</td>\n",
       "      <td>49.990090</td>\n",
       "      <td>{'learning_rate': 0.5}</td>\n",
       "      <td>0.965163</td>\n",
       "      <td>0.013756</td>\n",
       "      <td>3</td>\n",
       "    </tr>\n",
       "    <tr>\n",
       "      <th>8</th>\n",
       "      <td>1</td>\n",
       "      <td>12228</td>\n",
       "      <td>65.832102</td>\n",
       "      <td>{'learning_rate': 0.1}</td>\n",
       "      <td>0.976039</td>\n",
       "      <td>0.003674</td>\n",
       "      <td>2</td>\n",
       "    </tr>\n",
       "    <tr>\n",
       "      <th>9</th>\n",
       "      <td>1</td>\n",
       "      <td>12228</td>\n",
       "      <td>66.877836</td>\n",
       "      <td>{'learning_rate': 0.25}</td>\n",
       "      <td>0.978983</td>\n",
       "      <td>0.003187</td>\n",
       "      <td>1</td>\n",
       "    </tr>\n",
       "  </tbody>\n",
       "</table>\n",
       "</div>"
      ],
      "text/plain": [
       "   iter  n_resources  mean_fit_time                    params  \\\n",
       "0     0         4076      17.145947  {'learning_rate': 0.025}   \n",
       "1     0         4076      16.940618   {'learning_rate': 0.05}   \n",
       "2     0         4076      16.946634    {'learning_rate': 0.1}   \n",
       "3     0         4076      20.185659   {'learning_rate': 0.25}   \n",
       "4     0         4076      20.417949    {'learning_rate': 0.5}   \n",
       "5     0         4076      27.605631   {'learning_rate': 0.75}   \n",
       "6     0         4076      24.334827      {'learning_rate': 1}   \n",
       "7     1        12228      49.990090    {'learning_rate': 0.5}   \n",
       "8     1        12228      65.832102    {'learning_rate': 0.1}   \n",
       "9     1        12228      66.877836   {'learning_rate': 0.25}   \n",
       "\n",
       "   mean_test_score  std_test_score  rank_test_score  \n",
       "0         0.933661        0.015847                8  \n",
       "1         0.954300        0.012393                7  \n",
       "2         0.961425        0.006505                5  \n",
       "3         0.962899        0.005861                4  \n",
       "4         0.958231        0.006949                6  \n",
       "5         0.508354        0.393428                9  \n",
       "6         0.335381        0.302703               10  \n",
       "7         0.965163        0.013756                3  \n",
       "8         0.976039        0.003674                2  \n",
       "9         0.978983        0.003187                1  "
      ]
     },
     "metadata": {},
     "output_type": "display_data"
    }
   ],
   "source": [
    "display(hgsfres[[\"iter\",\"n_resources\",\"mean_fit_time\",\"params\",\"mean_test_score\",\"std_test_score\",\"rank_test_score\"]])"
   ]
  },
  {
   "cell_type": "code",
   "execution_count": 12,
   "id": "d021e01e-a563-4de9-bd03-ece38900bddf",
   "metadata": {
    "tags": []
   },
   "outputs": [
    {
     "name": "stderr",
     "output_type": "stream",
     "text": [
      "C:\\Users\\Furkan Yasin sahın\\AppData\\Local\\Programs\\Python\\Python310\\lib\\site-packages\\sklearn\\ensemble\\_gb.py:570: DataConversionWarning: A column-vector y was passed when a 1d array was expected. Please change the shape of y to (n_samples, ), for example using ravel().\n",
      "  y = column_or_1d(y, warn=True)\n"
     ]
    }
   ],
   "source": [
    "gbcff = GradientBoostingClassifier(n_estimators = 100, learning_rate = 0.25, random_state = 42)\n",
    "gbcff = gbcff.fit(Xf_train, yf_train)\n",
    "ypredf = gbcff.predict(Xf_test)"
   ]
  },
  {
   "cell_type": "code",
   "execution_count": 13,
   "id": "b3182e1a-4d78-417c-9f7e-39b5aa3d262c",
   "metadata": {},
   "outputs": [
    {
     "data": {
      "text/plain": [
       "<AxesSubplot:>"
      ]
     },
     "execution_count": 13,
     "metadata": {},
     "output_type": "execute_result"
    },
    {
     "data": {
      "image/png": "[encoded data removed]",
      "text/plain": [
       "<Figure size 720x360 with 2 Axes>"
      ]
     },
     "metadata": {
      "needs_background": "light"
     },
     "output_type": "display_data"
    }
   ],
   "source": [
    "fcm = confusion_matrix(yf_test, ypredf)\n",
    "plt.figure(figsize = (10,5))\n",
    "sns.heatmap(fcm, annot = True, cmap = \"tab20b\", fmt = \"d\")"
   ]
  },
  {
   "cell_type": "code",
   "execution_count": 14,
   "id": "490dbc34-c673-4ae2-aa04-e199f887bcc1",
   "metadata": {},
   "outputs": [
    {
     "name": "stdout",
     "output_type": "stream",
     "text": [
      "                       precision    recall  f1-score   support\n",
      "\n",
      "     All Star Big Man       0.97      0.94      0.96       161\n",
      "   All Star Playmaker       0.95      0.96      0.95       183\n",
      " All Star Post Scorer       0.98      0.96      0.97       316\n",
      "All Star Sharpshooter       0.98      0.97      0.98       351\n",
      "            Ignorance       0.99      1.00      1.00       972\n",
      "            Playmaker       0.97      0.98      0.98       411\n",
      "          Post Scorer       0.99      0.99      0.99       631\n",
      "        Rim Protector       0.96      0.98      0.97       388\n",
      "         Sharpshooter       0.99      0.98      0.98       510\n",
      "            Superstar       0.95      0.95      0.95       153\n",
      "\n",
      "             accuracy                           0.98      4076\n",
      "            macro avg       0.97      0.97      0.97      4076\n",
      "         weighted avg       0.98      0.98      0.98      4076\n",
      "\n"
     ]
    }
   ],
   "source": [
    "print(classification_report(yf_test, ypredf))"
   ]
  },
  {
   "cell_type": "code",
   "execution_count": null,
   "id": "9a60f63e-cf3d-4c83-91c2-ee6903bf881d",
   "metadata": {},
   "outputs": [],
   "source": []
  }
 ],
 "metadata": {
  "kernelspec": {
   "display_name": "Python 3 (ipykernel)",
   "language": "python",
   "name": "python3"
  },
  "language_info": {
   "codemirror_mode": {
    "name": "ipython",
    "version": 3
   },
   "file_extension": ".py",
   "mimetype": "text/x-python",
   "name": "python",
   "nbconvert_exporter": "python",
   "pygments_lexer": "ipython3",
   "version": "3.10.5"
  }
 },
 "nbformat": 4,
 "nbformat_minor": 5
}
