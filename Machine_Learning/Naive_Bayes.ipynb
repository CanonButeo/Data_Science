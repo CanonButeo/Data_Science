{
 "cells": [
  {
   "cell_type": "code",
   "execution_count": 58,
   "id": "6bed7c0b-da68-46df-ab4e-26e0cfeaeb0a",
   "metadata": {},
   "outputs": [],
   "source": [
    "import pandas as pd\n",
    "import numpy as np\n",
    "import matplotlib.pyplot as plt\n",
    "import seaborn as sns\n",
    "from sklearn.model_selection import train_test_split,cross_validate\n",
    "from sklearn.naive_bayes import GaussianNB\n",
    "from sklearn.metrics import confusion_matrix, classification_report"
   ]
  },
  {
   "cell_type": "code",
   "execution_count": 59,
   "id": "c2b3a3cc-439c-43ed-9b59-3f06a9a2f0c8",
   "metadata": {},
   "outputs": [
    {
     "name": "stdout",
     "output_type": "stream",
     "text": [
      "<class 'pandas.core.frame.DataFrame'>\n",
      "RangeIndex: 16304 entries, 0 to 16303\n",
      "Data columns (total 28 columns):\n",
      " #   Column         Non-Null Count  Dtype  \n",
      "---  ------         --------------  -----  \n",
      " 0   Unnamed: 0     16304 non-null  int64  \n",
      " 1   Year           16304 non-null  int64  \n",
      " 2   Player         16304 non-null  object \n",
      " 3   Tm             16304 non-null  object \n",
      " 4   G              16304 non-null  float64\n",
      " 5   PER            16304 non-null  float64\n",
      " 6    Salary        16304 non-null  float64\n",
      " 7   MP             16304 non-null  float64\n",
      " 8   3P             16304 non-null  float64\n",
      " 9   2P             16304 non-null  float64\n",
      " 10  FT             16304 non-null  float64\n",
      " 11  TRB            16304 non-null  float64\n",
      " 12  AST            16304 non-null  float64\n",
      " 13  STL            16304 non-null  float64\n",
      " 14  BLK            16304 non-null  float64\n",
      " 15  TOV            16304 non-null  float64\n",
      " 16  PF             16304 non-null  float64\n",
      " 17  PTS            16304 non-null  float64\n",
      " 18  Archetype      16304 non-null  object \n",
      " 19  Pos_C          16304 non-null  int64  \n",
      " 20  Pos_PF         16304 non-null  int64  \n",
      " 21  Pos_PG         16304 non-null  int64  \n",
      " 22  Pos_SF         16304 non-null  int64  \n",
      " 23  Pos_SG         16304 non-null  int64  \n",
      " 24  decades_1980s  16304 non-null  int64  \n",
      " 25  decades_1990s  16304 non-null  int64  \n",
      " 26  decades_2000s  16304 non-null  int64  \n",
      " 27  decades_2010s  16304 non-null  int64  \n",
      "dtypes: float64(14), int64(11), object(3)\n",
      "memory usage: 3.5+ MB\n",
      "None\n"
     ]
    }
   ],
   "source": [
    "nbapset = pd.read_csv(\"nbaprocessed.csv\")\n",
    "print(nbapset.info())"
   ]
  },
  {
   "cell_type": "code",
   "execution_count": 60,
   "id": "d4167fde-d1ff-415d-801b-ca5db8b8f3c3",
   "metadata": {},
   "outputs": [
    {
     "name": "stdout",
     "output_type": "stream",
     "text": [
      "<class 'pandas.core.frame.DataFrame'>\n",
      "RangeIndex: 16304 entries, 0 to 16303\n",
      "Data columns (total 27 columns):\n",
      " #   Column         Non-Null Count  Dtype  \n",
      "---  ------         --------------  -----  \n",
      " 0   Year           16304 non-null  int64  \n",
      " 1   Player         16304 non-null  object \n",
      " 2   Tm             16304 non-null  object \n",
      " 3   G              16304 non-null  float64\n",
      " 4   PER            16304 non-null  float64\n",
      " 5    Salary        16304 non-null  float64\n",
      " 6   MP             16304 non-null  float64\n",
      " 7   3P             16304 non-null  float64\n",
      " 8   2P             16304 non-null  float64\n",
      " 9   FT             16304 non-null  float64\n",
      " 10  TRB            16304 non-null  float64\n",
      " 11  AST            16304 non-null  float64\n",
      " 12  STL            16304 non-null  float64\n",
      " 13  BLK            16304 non-null  float64\n",
      " 14  TOV            16304 non-null  float64\n",
      " 15  PF             16304 non-null  float64\n",
      " 16  PTS            16304 non-null  float64\n",
      " 17  Archetype      16304 non-null  object \n",
      " 18  Pos_C          16304 non-null  int64  \n",
      " 19  Pos_PF         16304 non-null  int64  \n",
      " 20  Pos_PG         16304 non-null  int64  \n",
      " 21  Pos_SF         16304 non-null  int64  \n",
      " 22  Pos_SG         16304 non-null  int64  \n",
      " 23  decades_1980s  16304 non-null  int64  \n",
      " 24  decades_1990s  16304 non-null  int64  \n",
      " 25  decades_2000s  16304 non-null  int64  \n",
      " 26  decades_2010s  16304 non-null  int64  \n",
      "dtypes: float64(14), int64(10), object(3)\n",
      "memory usage: 3.4+ MB\n",
      "None\n"
     ]
    }
   ],
   "source": [
    "nbapset.drop(columns = nbapset.columns[0], axis = 1, inplace = True)\n",
    "print(nbapset.info())"
   ]
  },
  {
   "cell_type": "code",
   "execution_count": 61,
   "id": "efb2d8ec-ad87-4ba9-8775-d9d7c65218a0",
   "metadata": {},
   "outputs": [
    {
     "name": "stdout",
     "output_type": "stream",
     "text": [
      "<class 'pandas.core.frame.DataFrame'>\n",
      "RangeIndex: 16304 entries, 0 to 16303\n",
      "Data columns (total 23 columns):\n",
      " #   Column         Non-Null Count  Dtype  \n",
      "---  ------         --------------  -----  \n",
      " 0   G              16304 non-null  float64\n",
      " 1   PER            16304 non-null  float64\n",
      " 2    Salary        16304 non-null  float64\n",
      " 3   MP             16304 non-null  float64\n",
      " 4   3P             16304 non-null  float64\n",
      " 5   2P             16304 non-null  float64\n",
      " 6   FT             16304 non-null  float64\n",
      " 7   TRB            16304 non-null  float64\n",
      " 8   AST            16304 non-null  float64\n",
      " 9   STL            16304 non-null  float64\n",
      " 10  BLK            16304 non-null  float64\n",
      " 11  TOV            16304 non-null  float64\n",
      " 12  PF             16304 non-null  float64\n",
      " 13  PTS            16304 non-null  float64\n",
      " 14  Pos_C          16304 non-null  int64  \n",
      " 15  Pos_PF         16304 non-null  int64  \n",
      " 16  Pos_PG         16304 non-null  int64  \n",
      " 17  Pos_SF         16304 non-null  int64  \n",
      " 18  Pos_SG         16304 non-null  int64  \n",
      " 19  decades_1980s  16304 non-null  int64  \n",
      " 20  decades_1990s  16304 non-null  int64  \n",
      " 21  decades_2000s  16304 non-null  int64  \n",
      " 22  decades_2010s  16304 non-null  int64  \n",
      "dtypes: float64(14), int64(9)\n",
      "memory usage: 2.9 MB\n",
      "<class 'pandas.core.frame.DataFrame'>\n",
      "RangeIndex: 16304 entries, 0 to 16303\n",
      "Data columns (total 1 columns):\n",
      " #   Column     Non-Null Count  Dtype \n",
      "---  ------     --------------  ----- \n",
      " 0   Archetype  16304 non-null  object\n",
      "dtypes: object(1)\n",
      "memory usage: 127.5+ KB\n",
      "None None\n"
     ]
    }
   ],
   "source": [
    "Xp = nbapset.drop( columns = [\"Year\",\"Player\",\"Tm\",\"Archetype\"], axis = 1)\n",
    "yp = nbapset[[\"Archetype\"]]\n",
    "print(Xp.info(), yp.info())"
   ]
  },
  {
   "cell_type": "code",
   "execution_count": 62,
   "id": "89cc0ad0-97dc-4a37-9736-3dba064d6e4f",
   "metadata": {},
   "outputs": [],
   "source": [
    "Xp_train, Xp_test, yp_train, yp_test = train_test_split(Xp, yp, test_size = 0.25, random_state = 42)"
   ]
  },
  {
   "cell_type": "code",
   "execution_count": 63,
   "id": "ae46b9c1-f4c1-49ab-ae0f-1c278c3e01fc",
   "metadata": {},
   "outputs": [
    {
     "name": "stdout",
     "output_type": "stream",
     "text": [
      "(12228, 23) (4076, 23) (12228, 1) (4076, 1)\n"
     ]
    }
   ],
   "source": [
    "print(Xp_train.shape, Xp_test.shape, yp_train.shape, yp_test.shape)"
   ]
  },
  {
   "cell_type": "code",
   "execution_count": 64,
   "id": "70f2bc24-a0ca-483d-97e4-7e3f4644ff55",
   "metadata": {},
   "outputs": [],
   "source": [
    "gnb = GaussianNB()"
   ]
  },
  {
   "cell_type": "code",
   "execution_count": 65,
   "id": "3e095922-5894-47e0-9df4-936809d90c59",
   "metadata": {},
   "outputs": [],
   "source": [
    "scorers = [\"accuracy\",\"precision_weighted\",\"recall_weighted\",\"f1_weighted\"]\n",
    "cvscores = cross_validate(gnb, Xp_train, yp_train, scoring = scorers, cv = 10, n_jobs = -1)"
   ]
  },
  {
   "cell_type": "code",
   "execution_count": 66,
   "id": "aa2e1468-9d3e-4136-af4d-f4ee8dbb34aa",
   "metadata": {},
   "outputs": [
    {
     "name": "stdout",
     "output_type": "stream",
     "text": [
      "{'fit_time': array([0.11900663, 0.11400723, 0.10200644, 0.12940454, 0.10358095,\n",
      "       0.09378362, 0.12041426, 0.09858465, 0.08225846, 0.06963539]), 'score_time': array([0.06640124, 0.09305358, 0.10347724, 0.09898567, 0.08295798,\n",
      "       0.06733036, 0.08111119, 0.07171845, 0.06249261, 0.06249571]), 'test_accuracy': array([0.77841374, 0.77350777, 0.76369583, 0.76941946, 0.74897792,\n",
      "       0.75143091, 0.76451349, 0.75878986, 0.76513912, 0.78641571]), 'test_precision_weighted': array([0.84054034, 0.84532282, 0.84608047, 0.84758831, 0.82363383,\n",
      "       0.82685752, 0.83331986, 0.84927314, 0.83703781, 0.85807268]), 'test_recall_weighted': array([0.77841374, 0.77350777, 0.76369583, 0.76941946, 0.74897792,\n",
      "       0.75143091, 0.76451349, 0.75878986, 0.76513912, 0.78641571]), 'test_f1_weighted': array([0.78227627, 0.77632276, 0.77206285, 0.77750366, 0.75630078,\n",
      "       0.75804607, 0.76022271, 0.76654216, 0.77106608, 0.792811  ])}\n"
     ]
    }
   ],
   "source": [
    "print(cvscores)"
   ]
  },
  {
   "cell_type": "code",
   "execution_count": 67,
   "id": "48f86a0a-c320-4fee-b1c1-37e88356f573",
   "metadata": {},
   "outputs": [
    {
     "name": "stdout",
     "output_type": "stream",
     "text": [
      "0.7660303806073713\n",
      "0.840772677101641\n",
      "0.7660303806073713\n",
      "0.7713154335531224\n"
     ]
    }
   ],
   "source": [
    "print(cvscores[\"test_accuracy\"].mean())\n",
    "print(cvscores[\"test_precision_weighted\"].mean())\n",
    "print(cvscores[\"test_recall_weighted\"].mean())\n",
    "print(cvscores[\"test_f1_weighted\"].mean())"
   ]
  },
  {
   "cell_type": "code",
   "execution_count": 68,
   "id": "1cdd5e2b-6976-4fb4-acb9-405a274c8f15",
   "metadata": {},
   "outputs": [
    {
     "name": "stderr",
     "output_type": "stream",
     "text": [
      "C:\\Users\\Furkan Yasin sahın\\AppData\\Local\\Programs\\Python\\Python310\\lib\\site-packages\\sklearn\\utils\\validation.py:1111: DataConversionWarning: A column-vector y was passed when a 1d array was expected. Please change the shape of y to (n_samples, ), for example using ravel().\n",
      "  y = column_or_1d(y, warn=True)\n"
     ]
    }
   ],
   "source": [
    "gnb = gnb.fit(Xp_train, yp_train)\n",
    "ypred = gnb.predict(Xp_test)"
   ]
  },
  {
   "cell_type": "code",
   "execution_count": 69,
   "id": "c9bb99d7-dfcd-4be9-972b-f04b04f8f13b",
   "metadata": {},
   "outputs": [
    {
     "data": {
      "text/plain": [
       "<AxesSubplot:>"
      ]
     },
     "execution_count": 69,
     "metadata": {},
     "output_type": "execute_result"
    },
    {
     "data": {
      "image/png": "[encoded data removed]",
      "text/plain": [
       "<Figure size 720x360 with 2 Axes>"
      ]
     },
     "metadata": {
      "needs_background": "light"
     },
     "output_type": "display_data"
    }
   ],
   "source": [
    "cm = confusion_matrix(yp_test, ypred)\n",
    "plt.figure(figsize = (10,5))\n",
    "sns.heatmap(cm, annot = True, cmap = \"tab20b\", fmt = \"d\") "
   ]
  },
  {
   "cell_type": "code",
   "execution_count": 70,
   "id": "c7fcc65a-9e4d-4199-a0c6-9a45f3e708eb",
   "metadata": {},
   "outputs": [
    {
     "name": "stdout",
     "output_type": "stream",
     "text": [
      "                       precision    recall  f1-score   support\n",
      "\n",
      "     All Star Big Man       0.33      1.00      0.49       161\n",
      "   All Star Playmaker       0.43      0.96      0.59       183\n",
      " All Star Post Scorer       0.91      0.25      0.39       316\n",
      "All Star Sharpshooter       0.86      0.67      0.75       351\n",
      "            Ignorance       0.97      0.93      0.95       972\n",
      "            Playmaker       0.86      0.70      0.77       411\n",
      "          Post Scorer       0.92      0.78      0.85       631\n",
      "        Rim Protector       0.76      0.68      0.72       388\n",
      "         Sharpshooter       0.84      0.90      0.87       510\n",
      "            Superstar       0.91      0.66      0.77       153\n",
      "\n",
      "             accuracy                           0.77      4076\n",
      "            macro avg       0.78      0.75      0.71      4076\n",
      "         weighted avg       0.85      0.77      0.78      4076\n",
      "\n"
     ]
    }
   ],
   "source": [
    "print(classification_report(yp_test, ypred))"
   ]
  },
  {
   "cell_type": "code",
   "execution_count": 71,
   "id": "6456b8e4-293b-499b-b5cf-90ab9caa58d5",
   "metadata": {},
   "outputs": [
    {
     "name": "stdout",
     "output_type": "stream",
     "text": [
      "<class 'pandas.core.frame.DataFrame'>\n",
      "RangeIndex: 16304 entries, 0 to 16303\n",
      "Data columns (total 13 columns):\n",
      " #   Column      Non-Null Count  Dtype  \n",
      "---  ------      --------------  -----  \n",
      " 0   Unnamed: 0  16304 non-null  int64  \n",
      " 1    Salary     16304 non-null  float64\n",
      " 2   MP          16304 non-null  float64\n",
      " 3   3P          16304 non-null  float64\n",
      " 4   FT          16304 non-null  float64\n",
      " 5   TRB         16304 non-null  float64\n",
      " 6   AST         16304 non-null  float64\n",
      " 7   STL         16304 non-null  float64\n",
      " 8   BLK         16304 non-null  float64\n",
      " 9   TOV         16304 non-null  float64\n",
      " 10  PF          16304 non-null  float64\n",
      " 11  PTS         16304 non-null  float64\n",
      " 12  Archetype   16304 non-null  object \n",
      "dtypes: float64(11), int64(1), object(1)\n",
      "memory usage: 1.6+ MB\n",
      "None\n"
     ]
    }
   ],
   "source": [
    "nbafset = pd.read_csv(\"nbafeatset.csv\")\n",
    "print(nbafset.info())"
   ]
  },
  {
   "cell_type": "code",
   "execution_count": 72,
   "id": "77f915f6-59aa-4d4f-ac19-85355c7fae7a",
   "metadata": {},
   "outputs": [],
   "source": [
    "nbafset.drop(columns = nbafset.columns[0], axis = 1, inplace = True)"
   ]
  },
  {
   "cell_type": "code",
   "execution_count": 73,
   "id": "eadcc9a2-2883-4f3c-850e-c1a548a48d15",
   "metadata": {},
   "outputs": [],
   "source": [
    "Xf = nbafset.drop(columns = \"Archetype\", axis = 1)\n",
    "yf = nbafset[[\"Archetype\"]]"
   ]
  },
  {
   "cell_type": "code",
   "execution_count": 74,
   "id": "8d0ecc87-f6e2-4044-abf3-7ef02bbe0c8c",
   "metadata": {},
   "outputs": [
    {
     "name": "stdout",
     "output_type": "stream",
     "text": [
      "<class 'pandas.core.frame.DataFrame'>\n",
      "RangeIndex: 16304 entries, 0 to 16303\n",
      "Data columns (total 11 columns):\n",
      " #   Column    Non-Null Count  Dtype  \n",
      "---  ------    --------------  -----  \n",
      " 0    Salary   16304 non-null  float64\n",
      " 1   MP        16304 non-null  float64\n",
      " 2   3P        16304 non-null  float64\n",
      " 3   FT        16304 non-null  float64\n",
      " 4   TRB       16304 non-null  float64\n",
      " 5   AST       16304 non-null  float64\n",
      " 6   STL       16304 non-null  float64\n",
      " 7   BLK       16304 non-null  float64\n",
      " 8   TOV       16304 non-null  float64\n",
      " 9   PF        16304 non-null  float64\n",
      " 10  PTS       16304 non-null  float64\n",
      "dtypes: float64(11)\n",
      "memory usage: 1.4 MB\n",
      "<class 'pandas.core.frame.DataFrame'>\n",
      "RangeIndex: 16304 entries, 0 to 16303\n",
      "Data columns (total 1 columns):\n",
      " #   Column     Non-Null Count  Dtype \n",
      "---  ------     --------------  ----- \n",
      " 0   Archetype  16304 non-null  object\n",
      "dtypes: object(1)\n",
      "memory usage: 127.5+ KB\n",
      "None None\n"
     ]
    }
   ],
   "source": [
    "print(Xf.info(), yf.info())"
   ]
  },
  {
   "cell_type": "code",
   "execution_count": 75,
   "id": "e43162df-f826-45b0-99e4-f6da625512a2",
   "metadata": {},
   "outputs": [],
   "source": [
    "Xf_train, Xf_test, yf_train, yf_test = train_test_split(Xf, yf, test_size = 0.25, random_state = 42)"
   ]
  },
  {
   "cell_type": "code",
   "execution_count": 76,
   "id": "50e46165-0ebb-438d-a2ed-8076f389d6f8",
   "metadata": {},
   "outputs": [
    {
     "name": "stdout",
     "output_type": "stream",
     "text": [
      "(12228, 11) (4076, 11) (12228, 1) (4076, 1)\n"
     ]
    }
   ],
   "source": [
    "print(Xf_train.shape, Xf_test.shape, yf_train.shape, yf_test.shape)"
   ]
  },
  {
   "cell_type": "code",
   "execution_count": 77,
   "id": "16b29c61-53f0-42db-8590-888096af85e0",
   "metadata": {},
   "outputs": [],
   "source": [
    "gnb_f = GaussianNB()\n",
    "fcvscores = cross_validate(gnb_f, Xf_train, yf_train, scoring = scorers, cv = 10, n_jobs = -1)"
   ]
  },
  {
   "cell_type": "code",
   "execution_count": 78,
   "id": "056b000c-78a9-4bf8-8c90-952c92a8ad69",
   "metadata": {},
   "outputs": [
    {
     "name": "stdout",
     "output_type": "stream",
     "text": [
      "{'fit_time': array([0.09200382, 0.0880034 , 0.0870049 , 0.08900619, 0.07812858,\n",
      "       0.07815313, 0.06253219, 0.04687834, 0.08229136, 0.0491426 ]), 'score_time': array([0.08610439, 0.07200432, 0.08010387, 0.07310152, 0.08704805,\n",
      "       0.10967731, 0.10329747, 0.06249738, 0.06062818, 0.06060314]), 'test_accuracy': array([0.92232216, 0.93540474, 0.92722813, 0.91823385, 0.92641047,\n",
      "       0.92232216, 0.92968111, 0.9362224 , 0.92225859, 0.93371522]), 'test_precision_weighted': array([0.92429786, 0.93766192, 0.92891289, 0.91991063, 0.92795788,\n",
      "       0.9253747 , 0.93115562, 0.93847997, 0.92348793, 0.93591923]), 'test_recall_weighted': array([0.92232216, 0.93540474, 0.92722813, 0.91823385, 0.92641047,\n",
      "       0.92232216, 0.92968111, 0.9362224 , 0.92225859, 0.93371522]), 'test_f1_weighted': array([0.92188719, 0.93518301, 0.92719161, 0.9182244 , 0.92656892,\n",
      "       0.92233659, 0.92954429, 0.93630866, 0.92232693, 0.93408684])}\n"
     ]
    }
   ],
   "source": [
    "print(fcvscores)"
   ]
  },
  {
   "cell_type": "code",
   "execution_count": 80,
   "id": "e794c0f6-8a8b-4a54-ae76-5e211dd29e38",
   "metadata": {},
   "outputs": [
    {
     "name": "stdout",
     "output_type": "stream",
     "text": [
      "0.9273798833862159\n",
      "0.9293158648205635\n",
      "0.9273798833862159\n",
      "0.9273658438276178\n"
     ]
    }
   ],
   "source": [
    "print(fcvscores[\"test_accuracy\"].mean())\n",
    "print(fcvscores[\"test_precision_weighted\"].mean())\n",
    "print(fcvscores[\"test_recall_weighted\"].mean())\n",
    "print(fcvscores[\"test_f1_weighted\"].mean())"
   ]
  },
  {
   "cell_type": "code",
   "execution_count": 81,
   "id": "cb4f7876-a0c7-48ec-955b-2c343c53f0cc",
   "metadata": {},
   "outputs": [
    {
     "name": "stderr",
     "output_type": "stream",
     "text": [
      "C:\\Users\\Furkan Yasin sahın\\AppData\\Local\\Programs\\Python\\Python310\\lib\\site-packages\\sklearn\\utils\\validation.py:1111: DataConversionWarning: A column-vector y was passed when a 1d array was expected. Please change the shape of y to (n_samples, ), for example using ravel().\n",
      "  y = column_or_1d(y, warn=True)\n"
     ]
    }
   ],
   "source": [
    "gnb_f = gnb_f.fit(Xf_train, yf_train)\n",
    "fypred = gnb_f.predict(Xf_test)"
   ]
  },
  {
   "cell_type": "code",
   "execution_count": 82,
   "id": "f8d77cde-7b32-4c09-9d76-cf636749bb78",
   "metadata": {},
   "outputs": [
    {
     "data": {
      "text/plain": [
       "<AxesSubplot:>"
      ]
     },
     "execution_count": 82,
     "metadata": {},
     "output_type": "execute_result"
    },
    {
     "data": {
      "image/png": "[encoded data removed]",
      "text/plain": [
       "<Figure size 720x360 with 2 Axes>"
      ]
     },
     "metadata": {
      "needs_background": "light"
     },
     "output_type": "display_data"
    }
   ],
   "source": [
    "fcm = confusion_matrix(yf_test, fypred)\n",
    "plt.figure(figsize = (10,5))\n",
    "sns.heatmap(fcm, annot = True, cmap = \"tab20b\", fmt = \"d\")"
   ]
  },
  {
   "cell_type": "code",
   "execution_count": 83,
   "id": "7decd2e4-95df-4d72-a0e9-595b077df4a1",
   "metadata": {},
   "outputs": [
    {
     "name": "stdout",
     "output_type": "stream",
     "text": [
      "                       precision    recall  f1-score   support\n",
      "\n",
      "     All Star Big Man       0.88      0.96      0.92       161\n",
      "   All Star Playmaker       0.87      0.90      0.88       183\n",
      " All Star Post Scorer       0.96      0.85      0.90       316\n",
      "All Star Sharpshooter       0.95      0.90      0.92       351\n",
      "            Ignorance       0.98      0.96      0.97       972\n",
      "            Playmaker       0.91      0.88      0.89       411\n",
      "          Post Scorer       0.95      0.92      0.93       631\n",
      "        Rim Protector       0.88      0.97      0.92       388\n",
      "         Sharpshooter       0.90      0.96      0.93       510\n",
      "            Superstar       0.89      0.95      0.92       153\n",
      "\n",
      "             accuracy                           0.93      4076\n",
      "            macro avg       0.92      0.92      0.92      4076\n",
      "         weighted avg       0.93      0.93      0.93      4076\n",
      "\n"
     ]
    }
   ],
   "source": [
    "print(classification_report(yf_test, fypred))"
   ]
  },
  {
   "cell_type": "code",
   "execution_count": null,
   "id": "479e0ade-f501-4164-9a4d-a7eda3823538",
   "metadata": {},
   "outputs": [],
   "source": []
  }
 ],
 "metadata": {
  "kernelspec": {
   "display_name": "Python 3 (ipykernel)",
   "language": "python",
   "name": "python3"
  },
  "language_info": {
   "codemirror_mode": {
    "name": "ipython",
    "version": 3
   },
   "file_extension": ".py",
   "mimetype": "text/x-python",
   "name": "python",
   "nbconvert_exporter": "python",
   "pygments_lexer": "ipython3",
   "version": "3.10.5"
  }
 },
 "nbformat": 4,
 "nbformat_minor": 5
}
