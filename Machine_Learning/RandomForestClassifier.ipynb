{
 "cells": [
  {
   "cell_type": "code",
   "execution_count": 2,
   "id": "ce2d2442-64fd-4dcc-95c9-91ff7a1178c0",
   "metadata": {},
   "outputs": [],
   "source": [
    "import pandas as pd\n",
    "import numpy as np\n",
    "import seaborn as sns\n",
    "import matplotlib.pyplot as plt\n",
    "from sklearn.model_selection import train_test_split, cross_validate\n",
    "from sklearn.ensemble import RandomForestClassifier\n",
    "from sklearn.metrics import confusion_matrix, classification_report"
   ]
  },
  {
   "cell_type": "code",
   "execution_count": 4,
   "id": "adfc3a38-1d9d-443a-93aa-8eefbf3dfab5",
   "metadata": {},
   "outputs": [
    {
     "name": "stdout",
     "output_type": "stream",
     "text": [
      "<class 'pandas.core.frame.DataFrame'>\n",
      "RangeIndex: 16304 entries, 0 to 16303\n",
      "Data columns (total 28 columns):\n",
      " #   Column         Non-Null Count  Dtype  \n",
      "---  ------         --------------  -----  \n",
      " 0   Unnamed: 0     16304 non-null  int64  \n",
      " 1   Year           16304 non-null  int64  \n",
      " 2   Player         16304 non-null  object \n",
      " 3   Tm             16304 non-null  object \n",
      " 4   G              16304 non-null  float64\n",
      " 5   PER            16304 non-null  float64\n",
      " 6    Salary        16304 non-null  float64\n",
      " 7   MP             16304 non-null  float64\n",
      " 8   3P             16304 non-null  float64\n",
      " 9   2P             16304 non-null  float64\n",
      " 10  FT             16304 non-null  float64\n",
      " 11  TRB            16304 non-null  float64\n",
      " 12  AST            16304 non-null  float64\n",
      " 13  STL            16304 non-null  float64\n",
      " 14  BLK            16304 non-null  float64\n",
      " 15  TOV            16304 non-null  float64\n",
      " 16  PF             16304 non-null  float64\n",
      " 17  PTS            16304 non-null  float64\n",
      " 18  Archetype      16304 non-null  object \n",
      " 19  Pos_C          16304 non-null  int64  \n",
      " 20  Pos_PF         16304 non-null  int64  \n",
      " 21  Pos_PG         16304 non-null  int64  \n",
      " 22  Pos_SF         16304 non-null  int64  \n",
      " 23  Pos_SG         16304 non-null  int64  \n",
      " 24  decades_1980s  16304 non-null  int64  \n",
      " 25  decades_1990s  16304 non-null  int64  \n",
      " 26  decades_2000s  16304 non-null  int64  \n",
      " 27  decades_2010s  16304 non-null  int64  \n",
      "dtypes: float64(14), int64(11), object(3)\n",
      "memory usage: 3.5+ MB\n",
      "None\n"
     ]
    }
   ],
   "source": [
    "nbapset = pd.read_csv(\"nbaprocessed.csv\")\n",
    "print(nbapset.info())"
   ]
  },
  {
   "cell_type": "code",
   "execution_count": 5,
   "id": "5802de98-2524-4584-8bf0-c0c8bc30d72f",
   "metadata": {},
   "outputs": [
    {
     "name": "stdout",
     "output_type": "stream",
     "text": [
      "<class 'pandas.core.frame.DataFrame'>\n",
      "RangeIndex: 16304 entries, 0 to 16303\n",
      "Data columns (total 27 columns):\n",
      " #   Column         Non-Null Count  Dtype  \n",
      "---  ------         --------------  -----  \n",
      " 0   Year           16304 non-null  int64  \n",
      " 1   Player         16304 non-null  object \n",
      " 2   Tm             16304 non-null  object \n",
      " 3   G              16304 non-null  float64\n",
      " 4   PER            16304 non-null  float64\n",
      " 5    Salary        16304 non-null  float64\n",
      " 6   MP             16304 non-null  float64\n",
      " 7   3P             16304 non-null  float64\n",
      " 8   2P             16304 non-null  float64\n",
      " 9   FT             16304 non-null  float64\n",
      " 10  TRB            16304 non-null  float64\n",
      " 11  AST            16304 non-null  float64\n",
      " 12  STL            16304 non-null  float64\n",
      " 13  BLK            16304 non-null  float64\n",
      " 14  TOV            16304 non-null  float64\n",
      " 15  PF             16304 non-null  float64\n",
      " 16  PTS            16304 non-null  float64\n",
      " 17  Archetype      16304 non-null  object \n",
      " 18  Pos_C          16304 non-null  int64  \n",
      " 19  Pos_PF         16304 non-null  int64  \n",
      " 20  Pos_PG         16304 non-null  int64  \n",
      " 21  Pos_SF         16304 non-null  int64  \n",
      " 22  Pos_SG         16304 non-null  int64  \n",
      " 23  decades_1980s  16304 non-null  int64  \n",
      " 24  decades_1990s  16304 non-null  int64  \n",
      " 25  decades_2000s  16304 non-null  int64  \n",
      " 26  decades_2010s  16304 non-null  int64  \n",
      "dtypes: float64(14), int64(10), object(3)\n",
      "memory usage: 3.4+ MB\n",
      "None\n"
     ]
    }
   ],
   "source": [
    "nbapset.drop(columns = nbapset.columns[0], axis = 1, inplace = True)\n",
    "print(nbapset.info())"
   ]
  },
  {
   "cell_type": "code",
   "execution_count": 6,
   "id": "8500e461-e340-40f7-a4f7-5879d48e752b",
   "metadata": {},
   "outputs": [
    {
     "name": "stdout",
     "output_type": "stream",
     "text": [
      "<class 'pandas.core.frame.DataFrame'>\n",
      "RangeIndex: 16304 entries, 0 to 16303\n",
      "Data columns (total 23 columns):\n",
      " #   Column         Non-Null Count  Dtype  \n",
      "---  ------         --------------  -----  \n",
      " 0   G              16304 non-null  float64\n",
      " 1   PER            16304 non-null  float64\n",
      " 2    Salary        16304 non-null  float64\n",
      " 3   MP             16304 non-null  float64\n",
      " 4   3P             16304 non-null  float64\n",
      " 5   2P             16304 non-null  float64\n",
      " 6   FT             16304 non-null  float64\n",
      " 7   TRB            16304 non-null  float64\n",
      " 8   AST            16304 non-null  float64\n",
      " 9   STL            16304 non-null  float64\n",
      " 10  BLK            16304 non-null  float64\n",
      " 11  TOV            16304 non-null  float64\n",
      " 12  PF             16304 non-null  float64\n",
      " 13  PTS            16304 non-null  float64\n",
      " 14  Pos_C          16304 non-null  int64  \n",
      " 15  Pos_PF         16304 non-null  int64  \n",
      " 16  Pos_PG         16304 non-null  int64  \n",
      " 17  Pos_SF         16304 non-null  int64  \n",
      " 18  Pos_SG         16304 non-null  int64  \n",
      " 19  decades_1980s  16304 non-null  int64  \n",
      " 20  decades_1990s  16304 non-null  int64  \n",
      " 21  decades_2000s  16304 non-null  int64  \n",
      " 22  decades_2010s  16304 non-null  int64  \n",
      "dtypes: float64(14), int64(9)\n",
      "memory usage: 2.9 MB\n",
      "<class 'pandas.core.frame.DataFrame'>\n",
      "RangeIndex: 16304 entries, 0 to 16303\n",
      "Data columns (total 1 columns):\n",
      " #   Column     Non-Null Count  Dtype \n",
      "---  ------     --------------  ----- \n",
      " 0   Archetype  16304 non-null  object\n",
      "dtypes: object(1)\n",
      "memory usage: 127.5+ KB\n",
      "None None\n"
     ]
    }
   ],
   "source": [
    "Xp = nbapset.drop( columns = [\"Year\",\"Player\",\"Tm\",\"Archetype\"], axis = 1)\n",
    "yp = nbapset[[\"Archetype\"]]\n",
    "print(Xp.info(), yp.info())"
   ]
  },
  {
   "cell_type": "code",
   "execution_count": 7,
   "id": "e8079cfa-f788-493e-ab0b-49aeef37ac9d",
   "metadata": {},
   "outputs": [],
   "source": [
    "Xp_train, Xp_test, yp_train, yp_test = train_test_split(Xp, yp, test_size = 0.25, random_state = 42)"
   ]
  },
  {
   "cell_type": "code",
   "execution_count": 8,
   "id": "fdad01b7-812b-4cff-ab63-124453e765d8",
   "metadata": {},
   "outputs": [
    {
     "name": "stdout",
     "output_type": "stream",
     "text": [
      "(12228, 23) (4076, 23) (12228, 1) (4076, 1)\n"
     ]
    }
   ],
   "source": [
    "print(Xp_train.shape, Xp_test.shape, yp_train.shape, yp_test.shape)"
   ]
  },
  {
   "cell_type": "code",
   "execution_count": 9,
   "id": "21bb95cf-3773-4ef2-be3f-9ad8cb0ce9d9",
   "metadata": {},
   "outputs": [],
   "source": [
    "rfc = RandomForestClassifier(random_state = 42)"
   ]
  },
  {
   "cell_type": "code",
   "execution_count": 11,
   "id": "984355c2-eece-44af-863f-1bb5daca0e6b",
   "metadata": {},
   "outputs": [],
   "source": [
    "scorers = [\"accuracy\",\"precision_weighted\",\"recall_weighted\",\"f1_weighted\"]\n",
    "cvscores = cross_validate(rfc, Xp_train, yp_train, scoring = scorers, cv = 10, n_jobs = -1)"
   ]
  },
  {
   "cell_type": "code",
   "execution_count": 12,
   "id": "bedeef07-2e4e-4930-8ced-d7376a387250",
   "metadata": {},
   "outputs": [
    {
     "name": "stdout",
     "output_type": "stream",
     "text": [
      "{'fit_time': array([5.62297368, 5.74794483, 5.65419364, 5.60731721, 5.5479157 ,\n",
      "       5.5479188 , 5.56348324, 5.50101423, 5.35480833, 5.38603234]), 'score_time': array([0.18750119, 0.18752837, 0.17190695, 0.17187905, 0.17187881,\n",
      "       0.17187595, 0.15627789, 0.15624976, 0.14062715, 0.1249969 ]), 'test_accuracy': array([0.97301717, 0.95584628, 0.97301717, 0.96729354, 0.9574816 ,\n",
      "       0.96647588, 0.96238757, 0.97383483, 0.96808511, 0.96890344]), 'test_precision_weighted': array([0.97313901, 0.95633884, 0.97318053, 0.96779172, 0.95763931,\n",
      "       0.96696995, 0.96247956, 0.97397406, 0.96845043, 0.96901741]), 'test_recall_weighted': array([0.97301717, 0.95584628, 0.97301717, 0.96729354, 0.9574816 ,\n",
      "       0.96647588, 0.96238757, 0.97383483, 0.96808511, 0.96890344]), 'test_f1_weighted': array([0.97290556, 0.95573979, 0.97293912, 0.96730583, 0.95745554,\n",
      "       0.96644798, 0.96231556, 0.97382076, 0.9680436 , 0.9689213 ])}\n"
     ]
    }
   ],
   "source": [
    "print(cvscores)"
   ]
  },
  {
   "cell_type": "code",
   "execution_count": 13,
   "id": "e00ad6ed-3ab3-4579-9628-d3cbdebfab26",
   "metadata": {},
   "outputs": [
    {
     "name": "stdout",
     "output_type": "stream",
     "text": [
      "0.9666342590795889\n",
      "0.9668980828994908\n",
      "0.9666342590795889\n",
      "0.9665895024901001\n"
     ]
    }
   ],
   "source": [
    "print(cvscores[\"test_accuracy\"].mean())\n",
    "print(cvscores[\"test_precision_weighted\"].mean())\n",
    "print(cvscores[\"test_recall_weighted\"].mean())\n",
    "print(cvscores[\"test_f1_weighted\"].mean())"
   ]
  },
  {
   "cell_type": "code",
   "execution_count": 15,
   "id": "2ab808ab-d127-468e-9ea4-eaa33a1023d9",
   "metadata": {},
   "outputs": [],
   "source": [
    "rfc200 = rfc = RandomForestClassifier(n_estimators = 200, random_state = 42)\n",
    "cvscores200 = cross_validate(rfc200, Xp_train, yp_train, scoring = scorers, cv = 10, n_jobs = -1)"
   ]
  },
  {
   "cell_type": "code",
   "execution_count": 17,
   "id": "f85223b2-e80f-4781-bffb-f235790199ce",
   "metadata": {},
   "outputs": [
    {
     "name": "stdout",
     "output_type": "stream",
     "text": [
      "{'fit_time': array([11.15836668, 11.11709571, 11.0949955 , 11.1139977 , 10.98367405,\n",
      "       11.09304476, 11.03051281, 11.01491404, 10.61069536, 10.70762587]), 'score_time': array([0.28125906, 0.2812705 , 0.25413084, 0.28124905, 0.26562834,\n",
      "       0.26562214, 0.26565313, 0.26562595, 0.27602077, 0.22597241]), 'test_accuracy': array([0.97383483, 0.96238757, 0.97383483, 0.96647588, 0.95993459,\n",
      "       0.96729354, 0.96647588, 0.97465249, 0.96644845, 0.96317512]), 'test_precision_weighted': array([0.97381483, 0.96299504, 0.97401817, 0.96688461, 0.96035208,\n",
      "       0.96761638, 0.96657867, 0.97474877, 0.96696618, 0.96352538]), 'test_recall_weighted': array([0.97383483, 0.96238757, 0.97383483, 0.96647588, 0.95993459,\n",
      "       0.96729354, 0.96647588, 0.97465249, 0.96644845, 0.96317512]), 'test_f1_weighted': array([0.97366777, 0.96232272, 0.97375774, 0.96645119, 0.9599594 ,\n",
      "       0.96728893, 0.96643808, 0.97466024, 0.96640592, 0.96318307])}\n"
     ]
    }
   ],
   "source": [
    "print(cvscores200)"
   ]
  },
  {
   "cell_type": "code",
   "execution_count": 21,
   "id": "015a6199-fc83-4c47-b525-cdee7ed2e2fc",
   "metadata": {},
   "outputs": [
    {
     "name": "stdout",
     "output_type": "stream",
     "text": [
      "Metric scores for random forest with 200 trees\n",
      "0.9674513183620542\n",
      "0.9677500092782788\n",
      "0.9674513183620542\n",
      "0.9674135070632245\n"
     ]
    }
   ],
   "source": [
    "print(\"Metric scores for random forest with 200 trees\")\n",
    "print(cvscores200[\"test_accuracy\"].mean())\n",
    "print(cvscores200[\"test_precision_weighted\"].mean())\n",
    "print(cvscores200[\"test_recall_weighted\"].mean())\n",
    "print(cvscores200[\"test_f1_weighted\"].mean())"
   ]
  },
  {
   "cell_type": "code",
   "execution_count": 19,
   "id": "a0a1b36f-85ad-47f8-a1d6-10b8bcd09ed0",
   "metadata": {},
   "outputs": [],
   "source": [
    "rfc500 = rfc = RandomForestClassifier(n_estimators = 500, random_state = 42)\n",
    "cvscores500 = cross_validate(rfc500, Xp_train, yp_train, scoring = scorers, cv = 10, n_jobs = -1)"
   ]
  },
  {
   "cell_type": "code",
   "execution_count": 20,
   "id": "32b60ef0-cac3-4dbd-adbe-e90b205fe73d",
   "metadata": {},
   "outputs": [
    {
     "name": "stdout",
     "output_type": "stream",
     "text": [
      "{'fit_time': array([28.25792289, 28.38105679, 28.21192026, 28.05658197, 28.02100658,\n",
      "       28.01468325, 27.93655658, 27.9834311 , 26.38785362, 26.77459931]), 'score_time': array([0.58684111, 0.56370473, 0.60784197, 0.58718872, 0.66192627,\n",
      "       0.62949276, 0.62949157, 0.66074014, 0.50138378, 0.47933984]), 'test_accuracy': array([0.97219951, 0.96075225, 0.97465249, 0.9681112 , 0.96320523,\n",
      "       0.96647588, 0.96647588, 0.9787408 , 0.96808511, 0.96481178]), 'test_precision_weighted': array([0.97221128, 0.96142186, 0.97483551, 0.9684922 , 0.96353637,\n",
      "       0.96674825, 0.96667475, 0.97885499, 0.96856003, 0.96497437]), 'test_recall_weighted': array([0.97219951, 0.96075225, 0.97465249, 0.9681112 , 0.96320523,\n",
      "       0.96647588, 0.96647588, 0.9787408 , 0.96808511, 0.96481178]), 'test_f1_weighted': array([0.97206662, 0.9606893 , 0.97460106, 0.96807941, 0.9631869 ,\n",
      "       0.96645904, 0.96649344, 0.97873404, 0.96805304, 0.96480891])}\n"
     ]
    }
   ],
   "source": [
    "print(cvscores500)"
   ]
  },
  {
   "cell_type": "code",
   "execution_count": 22,
   "id": "921a7f4f-1308-49f4-8e42-7e59c7eaac4a",
   "metadata": {},
   "outputs": [
    {
     "name": "stdout",
     "output_type": "stream",
     "text": [
      "Metric scores for random forest with 500 trees\n",
      "0.9683510136459805\n",
      "0.9686309609908731\n",
      "0.9683510136459805\n",
      "0.9683171759560476\n"
     ]
    }
   ],
   "source": [
    "print(\"Metric scores for random forest with 500 trees\")\n",
    "print(cvscores500[\"test_accuracy\"].mean())\n",
    "print(cvscores500[\"test_precision_weighted\"].mean())\n",
    "print(cvscores500[\"test_recall_weighted\"].mean())\n",
    "print(cvscores500[\"test_f1_weighted\"].mean())"
   ]
  },
  {
   "cell_type": "code",
   "execution_count": 23,
   "id": "df433d21-9586-45cb-9cee-b1c86f161b5a",
   "metadata": {},
   "outputs": [
    {
     "name": "stderr",
     "output_type": "stream",
     "text": [
      "C:\\Users\\Furkan Yasin sahın\\AppData\\Local\\Temp\\ipykernel_872\\3139728905.py:1: DataConversionWarning: A column-vector y was passed when a 1d array was expected. Please change the shape of y to (n_samples,), for example using ravel().\n",
      "  rfc = rfc.fit(Xp_train, yp_train)\n"
     ]
    }
   ],
   "source": [
    "rfc = rfc.fit(Xp_train, yp_train)\n",
    "ypred = rfc.predict(Xp_test)"
   ]
  },
  {
   "cell_type": "code",
   "execution_count": 65,
   "id": "f80d661f-4b20-4147-8965-ddef6f4be6f6",
   "metadata": {},
   "outputs": [
    {
     "data": {
      "text/plain": [
       "<AxesSubplot:>"
      ]
     },
     "execution_count": 65,
     "metadata": {},
     "output_type": "execute_result"
    },
    {
     "data": {
      "image/png": "[encoded data removed]",
      "text/plain": [
       "<Figure size 720x360 with 2 Axes>"
      ]
     },
     "metadata": {
      "needs_background": "light"
     },
     "output_type": "display_data"
    }
   ],
   "source": [
    "cm = confusion_matrix(yp_test, ypred)\n",
    "plt.figure(figsize = (10,5))\n",
    "sns.heatmap(cm, annot = True)"
   ]
  },
  {
   "cell_type": "code",
   "execution_count": 27,
   "id": "a0536f0c-49e1-43c5-8a44-6d7a8be18ea7",
   "metadata": {},
   "outputs": [
    {
     "name": "stdout",
     "output_type": "stream",
     "text": [
      "                       precision    recall  f1-score   support\n",
      "\n",
      "     All Star Big Man       0.98      0.96      0.97       161\n",
      "   All Star Playmaker       0.96      0.92      0.94       183\n",
      " All Star Post Scorer       0.98      0.97      0.97       316\n",
      "All Star Sharpshooter       0.96      0.97      0.97       351\n",
      "            Ignorance       0.99      1.00      0.99       972\n",
      "            Playmaker       0.95      0.96      0.95       411\n",
      "          Post Scorer       0.97      0.99      0.98       631\n",
      "        Rim Protector       0.96      0.97      0.97       388\n",
      "         Sharpshooter       0.98      0.96      0.97       510\n",
      "            Superstar       0.97      0.95      0.96       153\n",
      "\n",
      "             accuracy                           0.97      4076\n",
      "            macro avg       0.97      0.97      0.97      4076\n",
      "         weighted avg       0.97      0.97      0.97      4076\n",
      "\n"
     ]
    }
   ],
   "source": [
    "print(classification_report(yp_test, ypred))"
   ]
  },
  {
   "cell_type": "code",
   "execution_count": 28,
   "id": "35959760-4a15-40e0-b6c0-e12c5f7e2e0b",
   "metadata": {},
   "outputs": [
    {
     "name": "stdout",
     "output_type": "stream",
     "text": [
      "<class 'pandas.core.frame.DataFrame'>\n",
      "RangeIndex: 16304 entries, 0 to 16303\n",
      "Data columns (total 13 columns):\n",
      " #   Column      Non-Null Count  Dtype  \n",
      "---  ------      --------------  -----  \n",
      " 0   Unnamed: 0  16304 non-null  int64  \n",
      " 1    Salary     16304 non-null  float64\n",
      " 2   MP          16304 non-null  float64\n",
      " 3   3P          16304 non-null  float64\n",
      " 4   FT          16304 non-null  float64\n",
      " 5   TRB         16304 non-null  float64\n",
      " 6   AST         16304 non-null  float64\n",
      " 7   STL         16304 non-null  float64\n",
      " 8   BLK         16304 non-null  float64\n",
      " 9   TOV         16304 non-null  float64\n",
      " 10  PF          16304 non-null  float64\n",
      " 11  PTS         16304 non-null  float64\n",
      " 12  Archetype   16304 non-null  object \n",
      "dtypes: float64(11), int64(1), object(1)\n",
      "memory usage: 1.6+ MB\n",
      "None\n"
     ]
    }
   ],
   "source": [
    "nbafset = pd.read_csv(\"nbafeatset.csv\")\n",
    "print(nbafset.info())"
   ]
  },
  {
   "cell_type": "code",
   "execution_count": 29,
   "id": "71bf525e-60d8-4b36-8052-0ca8a4cec72c",
   "metadata": {},
   "outputs": [],
   "source": [
    "nbafset.drop(columns = nbafset.columns[0], axis = 1, inplace = True)"
   ]
  },
  {
   "cell_type": "code",
   "execution_count": 30,
   "id": "bb1465cf-2623-4549-a3ee-0014149c7b5c",
   "metadata": {},
   "outputs": [],
   "source": [
    "Xf = nbafset.drop(columns = \"Archetype\", axis = 1)\n",
    "yf = nbafset[[\"Archetype\"]]"
   ]
  },
  {
   "cell_type": "code",
   "execution_count": 31,
   "id": "3e662268-b081-4569-b8b0-78da6024d1c8",
   "metadata": {},
   "outputs": [
    {
     "name": "stdout",
     "output_type": "stream",
     "text": [
      "<class 'pandas.core.frame.DataFrame'>\n",
      "RangeIndex: 16304 entries, 0 to 16303\n",
      "Data columns (total 11 columns):\n",
      " #   Column    Non-Null Count  Dtype  \n",
      "---  ------    --------------  -----  \n",
      " 0    Salary   16304 non-null  float64\n",
      " 1   MP        16304 non-null  float64\n",
      " 2   3P        16304 non-null  float64\n",
      " 3   FT        16304 non-null  float64\n",
      " 4   TRB       16304 non-null  float64\n",
      " 5   AST       16304 non-null  float64\n",
      " 6   STL       16304 non-null  float64\n",
      " 7   BLK       16304 non-null  float64\n",
      " 8   TOV       16304 non-null  float64\n",
      " 9   PF        16304 non-null  float64\n",
      " 10  PTS       16304 non-null  float64\n",
      "dtypes: float64(11)\n",
      "memory usage: 1.4 MB\n",
      "<class 'pandas.core.frame.DataFrame'>\n",
      "RangeIndex: 16304 entries, 0 to 16303\n",
      "Data columns (total 1 columns):\n",
      " #   Column     Non-Null Count  Dtype \n",
      "---  ------     --------------  ----- \n",
      " 0   Archetype  16304 non-null  object\n",
      "dtypes: object(1)\n",
      "memory usage: 127.5+ KB\n",
      "None None\n"
     ]
    }
   ],
   "source": [
    "print(Xf.info(), yf.info())"
   ]
  },
  {
   "cell_type": "code",
   "execution_count": 32,
   "id": "dc7da016-8b36-46df-a263-0a88122d5bc1",
   "metadata": {},
   "outputs": [],
   "source": [
    "Xf_train, Xf_test, yf_train, yf_test = train_test_split(Xf, yf, test_size = 0.25, random_state = 42)"
   ]
  },
  {
   "cell_type": "code",
   "execution_count": 33,
   "id": "7d609a3a-ca13-4b5d-8d8f-1018cb559a75",
   "metadata": {},
   "outputs": [
    {
     "name": "stdout",
     "output_type": "stream",
     "text": [
      "(12228, 11) (4076, 11) (12228, 1) (4076, 1)\n"
     ]
    }
   ],
   "source": [
    "print(Xf_train.shape, Xf_test.shape, yf_train.shape, yf_test.shape)"
   ]
  },
  {
   "cell_type": "code",
   "execution_count": 44,
   "id": "25d24935-94e5-4f39-8cf8-eea15584e68e",
   "metadata": {},
   "outputs": [],
   "source": [
    "frfc = RandomForestClassifier(random_state = 42)\n",
    "fcvscores = cross_validate(frfc, Xf_train, yf_train, scoring = scorers, cv = 10, n_jobs = -1)"
   ]
  },
  {
   "cell_type": "code",
   "execution_count": 45,
   "id": "72fd19a7-bff3-424e-91d6-fba2eedc767c",
   "metadata": {},
   "outputs": [
    {
     "name": "stdout",
     "output_type": "stream",
     "text": [
      "{'fit_time': array([6.63341928, 6.48640656, 6.41940475, 6.41640592, 6.31336689,\n",
      "       6.38037515, 6.38737488, 6.41037536, 5.93331766, 5.89131498]), 'score_time': array([0.17000961, 0.18201017, 0.18601108, 0.20601273, 0.21001315,\n",
      "       0.15900826, 0.19701099, 0.18101048, 0.18408585, 0.18101168]), 'test_accuracy': array([0.97056419, 0.95993459, 0.97301717, 0.96892886, 0.96565822,\n",
      "       0.96565822, 0.96647588, 0.97219951, 0.96644845, 0.96972177]), 'test_precision_weighted': array([0.97062017, 0.96025972, 0.97313867, 0.96947163, 0.96575043,\n",
      "       0.96580732, 0.96664431, 0.97223408, 0.96675844, 0.96981291]), 'test_recall_weighted': array([0.97056419, 0.95993459, 0.97301717, 0.96892886, 0.96565822,\n",
      "       0.96565822, 0.96647588, 0.97219951, 0.96644845, 0.96972177]), 'test_f1_weighted': array([0.97046027, 0.95991539, 0.97293196, 0.9689529 , 0.96558188,\n",
      "       0.96562259, 0.96647915, 0.97217341, 0.96648319, 0.96973527])}\n"
     ]
    }
   ],
   "source": [
    "print(fcvscores)"
   ]
  },
  {
   "cell_type": "code",
   "execution_count": 46,
   "id": "f0d15060-5223-4359-b525-71ffbde16943",
   "metadata": {},
   "outputs": [
    {
     "name": "stdout",
     "output_type": "stream",
     "text": [
      "0.9678606844000626\n",
      "0.9680497679562278\n",
      "0.9678606844000626\n",
      "0.9678336017582339\n"
     ]
    }
   ],
   "source": [
    "print(fcvscores[\"test_accuracy\"].mean())\n",
    "print(fcvscores[\"test_precision_weighted\"].mean())\n",
    "print(fcvscores[\"test_recall_weighted\"].mean())\n",
    "print(fcvscores[\"test_f1_weighted\"].mean())"
   ]
  },
  {
   "cell_type": "code",
   "execution_count": 37,
   "id": "1a8042f7-de27-4e46-b925-04656fe367cb",
   "metadata": {},
   "outputs": [],
   "source": [
    "frfc200 = RandomForestClassifier(n_estimators = 200, random_state = 42)\n",
    "fcvscores200 = cross_validate(frfc200, Xf_train, yf_train, scoring = scorers, cv = 10, n_jobs = -1)"
   ]
  },
  {
   "cell_type": "code",
   "execution_count": 38,
   "id": "1da5b22e-7081-45dd-8f07-7110510287c4",
   "metadata": {},
   "outputs": [
    {
     "name": "stdout",
     "output_type": "stream",
     "text": [
      "{'fit_time': array([16.03368831, 16.13969541, 16.03568912, 16.05069089, 18.18906617,\n",
      "       18.08405995, 17.88604212, 18.26409054, 14.60685897, 14.66086864]), 'score_time': array([0.87202716, 0.94602394, 0.84702516, 1.04503131, 0.39003611,\n",
      "       0.34403896, 0.31404519, 0.29100108, 0.44202757, 0.38302231]), 'test_accuracy': array([0.96892886, 0.96484056, 0.97465249, 0.97465249, 0.96320523,\n",
      "       0.96729354, 0.97056419, 0.96892886, 0.96808511, 0.9705401 ]), 'test_precision_weighted': array([0.96903908, 0.96538385, 0.97470616, 0.97500726, 0.96325886,\n",
      "       0.96740467, 0.97066015, 0.96900894, 0.96861058, 0.97075307]), 'test_recall_weighted': array([0.96892886, 0.96484056, 0.97465249, 0.97465249, 0.96320523,\n",
      "       0.96729354, 0.97056419, 0.96892886, 0.96808511, 0.9705401 ]), 'test_f1_weighted': array([0.96888614, 0.96481606, 0.97460102, 0.97470887, 0.96314074,\n",
      "       0.9672329 , 0.97055912, 0.96893125, 0.96813732, 0.97054606])}\n"
     ]
    }
   ],
   "source": [
    "print(fcvscores200)"
   ]
  },
  {
   "cell_type": "code",
   "execution_count": 39,
   "id": "f553f200-049b-48f3-8aba-9d1681ff3ded",
   "metadata": {},
   "outputs": [
    {
     "name": "stdout",
     "output_type": "stream",
     "text": [
      "Metric scores for random forest with 200 trees\n",
      "0.9691691435163191\n",
      "0.96938326078853\n",
      "0.9691691435163191\n",
      "0.9691559483972476\n"
     ]
    }
   ],
   "source": [
    "print(\"Metric scores for random forest with 200 trees\")\n",
    "print(fcvscores200[\"test_accuracy\"].mean())\n",
    "print(fcvscores200[\"test_precision_weighted\"].mean())\n",
    "print(fcvscores200[\"test_recall_weighted\"].mean())\n",
    "print(fcvscores200[\"test_f1_weighted\"].mean())"
   ]
  },
  {
   "cell_type": "code",
   "execution_count": 40,
   "id": "cc530f40-e364-4283-ba91-ef60bced0c56",
   "metadata": {},
   "outputs": [],
   "source": [
    "frfc500 = RandomForestClassifier(n_estimators = 500, random_state = 42)\n",
    "fcvscores500 = cross_validate(frfc500, Xf_train, yf_train, scoring = scorers, cv = 10, n_jobs = -1)"
   ]
  },
  {
   "cell_type": "code",
   "execution_count": 42,
   "id": "9756c023-2d00-4379-9333-26423b38f3a0",
   "metadata": {},
   "outputs": [
    {
     "name": "stdout",
     "output_type": "stream",
     "text": [
      "{'fit_time': array([33.71497416, 33.69297266, 33.5529654 , 33.37796211, 33.5289712 ,\n",
      "       33.78198147, 33.43997669, 33.67198133, 29.81276822, 29.6777401 ]), 'score_time': array([0.82106376, 0.81206822, 0.8630743 , 0.91407633, 0.91402507,\n",
      "       0.82102847, 0.97202826, 0.82402873, 0.75901794, 0.76604199]), 'test_accuracy': array([0.97138185, 0.96729354, 0.97465249, 0.97710548, 0.96729354,\n",
      "       0.96729354, 0.97138185, 0.97138185, 0.96726678, 0.96972177]), 'test_precision_weighted': array([0.97146169, 0.96781971, 0.97481675, 0.97744374, 0.96732911,\n",
      "       0.96743264, 0.97147421, 0.97145658, 0.96770662, 0.96990168]), 'test_recall_weighted': array([0.97138185, 0.96729354, 0.97465249, 0.97710548, 0.96729354,\n",
      "       0.96729354, 0.97138185, 0.97138185, 0.96726678, 0.96972177]), 'test_f1_weighted': array([0.97134704, 0.96729312, 0.97462925, 0.97714959, 0.96721408,\n",
      "       0.96729293, 0.97136512, 0.97137612, 0.9673052 , 0.96977413])}\n"
     ]
    }
   ],
   "source": [
    "print(fcvscores500)"
   ]
  },
  {
   "cell_type": "code",
   "execution_count": 43,
   "id": "d0ecd843-9f11-4ba8-b84d-1ba08552a487",
   "metadata": {},
   "outputs": [
    {
     "name": "stdout",
     "output_type": "stream",
     "text": [
      "Metric scores for random forest with 500 trees\n",
      "0.9704772680738651\n",
      "0.9706842728649147\n",
      "0.9704772680738651\n",
      "0.9704746583333537\n"
     ]
    }
   ],
   "source": [
    "print(\"Metric scores for random forest with 500 trees\")\n",
    "print(fcvscores500[\"test_accuracy\"].mean())\n",
    "print(fcvscores500[\"test_precision_weighted\"].mean())\n",
    "print(fcvscores500[\"test_recall_weighted\"].mean())\n",
    "print(fcvscores500[\"test_f1_weighted\"].mean())"
   ]
  },
  {
   "cell_type": "code",
   "execution_count": 47,
   "id": "991631ea-9b6d-4755-85f4-3c2bec422e1b",
   "metadata": {},
   "outputs": [
    {
     "name": "stderr",
     "output_type": "stream",
     "text": [
      "C:\\Users\\Furkan Yasin sahın\\AppData\\Local\\Temp\\ipykernel_872\\764064329.py:1: DataConversionWarning: A column-vector y was passed when a 1d array was expected. Please change the shape of y to (n_samples,), for example using ravel().\n",
      "  frfc = frfc.fit(Xf_train, yf_train)\n"
     ]
    }
   ],
   "source": [
    "frfc = frfc.fit(Xf_train, yf_train)\n",
    "fypred = frfc.predict(Xf_test)"
   ]
  },
  {
   "cell_type": "code",
   "execution_count": 49,
   "id": "264e0295-8f5a-4e00-95f7-5c64d4d2a356",
   "metadata": {},
   "outputs": [
    {
     "data": {
      "text/plain": [
       "<AxesSubplot:>"
      ]
     },
     "execution_count": 49,
     "metadata": {},
     "output_type": "execute_result"
    },
    {
     "data": {
      "image/png": "[encoded data removed]",
      "text/plain": [
       "<Figure size 720x360 with 2 Axes>"
      ]
     },
     "metadata": {
      "needs_background": "light"
     },
     "output_type": "display_data"
    }
   ],
   "source": [
    "fcm = confusion_matrix(yf_test, fypred)\n",
    "plt.figure(figsize = (10,5))\n",
    "sns.heatmap(fcm, annot = True)"
   ]
  },
  {
   "cell_type": "code",
   "execution_count": 50,
   "id": "71929b38-9197-45dc-b566-24500ca7e0d1",
   "metadata": {},
   "outputs": [
    {
     "name": "stdout",
     "output_type": "stream",
     "text": [
      "                       precision    recall  f1-score   support\n",
      "\n",
      "     All Star Big Man       0.97      0.98      0.97       161\n",
      "   All Star Playmaker       0.97      0.94      0.95       183\n",
      " All Star Post Scorer       0.96      0.95      0.96       316\n",
      "All Star Sharpshooter       0.98      0.98      0.98       351\n",
      "            Ignorance       0.99      0.99      0.99       972\n",
      "            Playmaker       0.93      0.96      0.94       411\n",
      "          Post Scorer       0.97      0.99      0.98       631\n",
      "        Rim Protector       0.95      0.96      0.95       388\n",
      "         Sharpshooter       0.98      0.95      0.96       510\n",
      "            Superstar       0.98      0.96      0.97       153\n",
      "\n",
      "             accuracy                           0.97      4076\n",
      "            macro avg       0.97      0.96      0.97      4076\n",
      "         weighted avg       0.97      0.97      0.97      4076\n",
      "\n"
     ]
    }
   ],
   "source": [
    "print(classification_report(yf_test, fypred))"
   ]
  },
  {
   "cell_type": "code",
   "execution_count": 64,
   "id": "54c98f8c-2469-49a4-828e-5d562f6ec55c",
   "metadata": {},
   "outputs": [
    {
     "data": {
      "text/plain": [
       "Text(0, 0.5, 'Accuracy')"
      ]
     },
     "execution_count": 64,
     "metadata": {},
     "output_type": "execute_result"
    },
    {
     "data": {
      "text/plain": [
       "<Figure size 432x288 with 0 Axes>"
      ]
     },
     "metadata": {},
     "output_type": "display_data"
    },
    {
     "data": {
      "image/png": "[encoded data removed]",
      "text/plain": [
       "<Figure size 864x360 with 2 Axes>"
      ]
     },
     "metadata": {
      "needs_background": "light"
     },
     "output_type": "display_data"
    }
   ],
   "source": [
    "est = [100, 200, 500]\n",
    "\n",
    "time = [fcvscores[\"fit_time\"].mean(), fcvscores200[\"fit_time\"].mean(), fcvscores500[\"fit_time\"].mean()]\n",
    "acc = [fcvscores[\"test_accuracy\"].mean(), fcvscores200[\"test_accuracy\"].mean(), fcvscores500[\"test_accuracy\"].mean()]\n",
    "plt.figure(1)\n",
    "plt.figure(figsize = (12,5))\n",
    "plt.subplot(1,2,1)\n",
    "plt.plot(est, time, marker = \"X\", linestyle = \"dotted\", color = \"red\")\n",
    "plt.xlabel(\"Number of trees\")\n",
    "plt.ylabel(\"Fitting time\")\n",
    "plt.subplot(1,2,2)\n",
    "plt.plot(est, acc, marker = \"D\", linestyle = \"dashed\", color = \"green\")\n",
    "plt.xlabel(\"Number of trees\")\n",
    "plt.ylabel(\"Accuracy\")"
   ]
  },
  {
   "cell_type": "code",
   "execution_count": null,
   "id": "495049d1-e16a-481f-a39b-aba2e7ad2a56",
   "metadata": {},
   "outputs": [],
   "source": []
  }
 ],
 "metadata": {
  "kernelspec": {
   "display_name": "Python 3 (ipykernel)",
   "language": "python",
   "name": "python3"
  },
  "language_info": {
   "codemirror_mode": {
    "name": "ipython",
    "version": 3
   },
   "file_extension": ".py",
   "mimetype": "text/x-python",
   "name": "python",
   "nbconvert_exporter": "python",
   "pygments_lexer": "ipython3",
   "version": "3.10.5"
  }
 },
 "nbformat": 4,
 "nbformat_minor": 5
}
