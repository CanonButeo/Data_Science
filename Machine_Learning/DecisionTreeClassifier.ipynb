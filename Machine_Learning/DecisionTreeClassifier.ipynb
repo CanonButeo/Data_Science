{
 "cells": [
  {
   "cell_type": "code",
   "execution_count": 15,
   "id": "d05456ea-5fe4-446f-938d-bbb641ac195f",
   "metadata": {},
   "outputs": [],
   "source": [
    "import pandas as pd\n",
    "import numpy as np\n",
    "from sklearn.tree import DecisionTreeClassifier \n",
    "from sklearn.model_selection import train_test_split, cross_validate"
   ]
  },
  {
   "cell_type": "code",
   "execution_count": 4,
   "id": "e81330d4-7716-4431-bcce-a2da7dbdef26",
   "metadata": {},
   "outputs": [
    {
     "name": "stdout",
     "output_type": "stream",
     "text": [
      "<class 'pandas.core.frame.DataFrame'>\n",
      "RangeIndex: 16304 entries, 0 to 16303\n",
      "Data columns (total 28 columns):\n",
      " #   Column         Non-Null Count  Dtype  \n",
      "---  ------         --------------  -----  \n",
      " 0   Unnamed: 0     16304 non-null  int64  \n",
      " 1   Year           16304 non-null  int64  \n",
      " 2   Player         16304 non-null  object \n",
      " 3   Tm             16304 non-null  object \n",
      " 4   G              16304 non-null  float64\n",
      " 5   PER            16304 non-null  float64\n",
      " 6    Salary        16304 non-null  float64\n",
      " 7   MP             16304 non-null  float64\n",
      " 8   3P             16304 non-null  float64\n",
      " 9   2P             16304 non-null  float64\n",
      " 10  FT             16304 non-null  float64\n",
      " 11  TRB            16304 non-null  float64\n",
      " 12  AST            16304 non-null  float64\n",
      " 13  STL            16304 non-null  float64\n",
      " 14  BLK            16304 non-null  float64\n",
      " 15  TOV            16304 non-null  float64\n",
      " 16  PF             16304 non-null  float64\n",
      " 17  PTS            16304 non-null  float64\n",
      " 18  Archetype      16304 non-null  object \n",
      " 19  Pos_C          16304 non-null  int64  \n",
      " 20  Pos_PF         16304 non-null  int64  \n",
      " 21  Pos_PG         16304 non-null  int64  \n",
      " 22  Pos_SF         16304 non-null  int64  \n",
      " 23  Pos_SG         16304 non-null  int64  \n",
      " 24  decades_1980s  16304 non-null  int64  \n",
      " 25  decades_1990s  16304 non-null  int64  \n",
      " 26  decades_2000s  16304 non-null  int64  \n",
      " 27  decades_2010s  16304 non-null  int64  \n",
      "dtypes: float64(14), int64(11), object(3)\n",
      "memory usage: 3.5+ MB\n",
      "None\n"
     ]
    }
   ],
   "source": [
    "nbapset = pd.read_csv(\"nbaprocessed.csv\")\n",
    "print(nbapset.info())"
   ]
  },
  {
   "cell_type": "code",
   "execution_count": 7,
   "id": "e3aec6ca-fce0-4403-962c-b322a9d0327a",
   "metadata": {},
   "outputs": [
    {
     "name": "stdout",
     "output_type": "stream",
     "text": [
      "<class 'pandas.core.frame.DataFrame'>\n",
      "RangeIndex: 16304 entries, 0 to 16303\n",
      "Data columns (total 27 columns):\n",
      " #   Column         Non-Null Count  Dtype  \n",
      "---  ------         --------------  -----  \n",
      " 0   Year           16304 non-null  int64  \n",
      " 1   Player         16304 non-null  object \n",
      " 2   Tm             16304 non-null  object \n",
      " 3   G              16304 non-null  float64\n",
      " 4   PER            16304 non-null  float64\n",
      " 5    Salary        16304 non-null  float64\n",
      " 6   MP             16304 non-null  float64\n",
      " 7   3P             16304 non-null  float64\n",
      " 8   2P             16304 non-null  float64\n",
      " 9   FT             16304 non-null  float64\n",
      " 10  TRB            16304 non-null  float64\n",
      " 11  AST            16304 non-null  float64\n",
      " 12  STL            16304 non-null  float64\n",
      " 13  BLK            16304 non-null  float64\n",
      " 14  TOV            16304 non-null  float64\n",
      " 15  PF             16304 non-null  float64\n",
      " 16  PTS            16304 non-null  float64\n",
      " 17  Archetype      16304 non-null  object \n",
      " 18  Pos_C          16304 non-null  int64  \n",
      " 19  Pos_PF         16304 non-null  int64  \n",
      " 20  Pos_PG         16304 non-null  int64  \n",
      " 21  Pos_SF         16304 non-null  int64  \n",
      " 22  Pos_SG         16304 non-null  int64  \n",
      " 23  decades_1980s  16304 non-null  int64  \n",
      " 24  decades_1990s  16304 non-null  int64  \n",
      " 25  decades_2000s  16304 non-null  int64  \n",
      " 26  decades_2010s  16304 non-null  int64  \n",
      "dtypes: float64(14), int64(10), object(3)\n",
      "memory usage: 3.4+ MB\n",
      "None\n"
     ]
    }
   ],
   "source": [
    "nbapset.drop(columns = nbapset.columns[0], axis = 1, inplace = True)\n",
    "print(nbapset.info())"
   ]
  },
  {
   "cell_type": "code",
   "execution_count": 8,
   "id": "013e142b-3e62-4650-9414-f1b84e9a8e2b",
   "metadata": {},
   "outputs": [],
   "source": [
    "Xp = nbapset.drop( columns = [\"Year\",\"Player\",\"Tm\",\"Archetype\"], axis = 1)\n",
    "yp = nbapset[[\"Archetype\"]]"
   ]
  },
  {
   "cell_type": "code",
   "execution_count": 9,
   "id": "ead56af1-df3e-4946-aa15-5e93262ba5af",
   "metadata": {},
   "outputs": [
    {
     "name": "stdout",
     "output_type": "stream",
     "text": [
      "<class 'pandas.core.frame.DataFrame'>\n",
      "RangeIndex: 16304 entries, 0 to 16303\n",
      "Data columns (total 23 columns):\n",
      " #   Column         Non-Null Count  Dtype  \n",
      "---  ------         --------------  -----  \n",
      " 0   G              16304 non-null  float64\n",
      " 1   PER            16304 non-null  float64\n",
      " 2    Salary        16304 non-null  float64\n",
      " 3   MP             16304 non-null  float64\n",
      " 4   3P             16304 non-null  float64\n",
      " 5   2P             16304 non-null  float64\n",
      " 6   FT             16304 non-null  float64\n",
      " 7   TRB            16304 non-null  float64\n",
      " 8   AST            16304 non-null  float64\n",
      " 9   STL            16304 non-null  float64\n",
      " 10  BLK            16304 non-null  float64\n",
      " 11  TOV            16304 non-null  float64\n",
      " 12  PF             16304 non-null  float64\n",
      " 13  PTS            16304 non-null  float64\n",
      " 14  Pos_C          16304 non-null  int64  \n",
      " 15  Pos_PF         16304 non-null  int64  \n",
      " 16  Pos_PG         16304 non-null  int64  \n",
      " 17  Pos_SF         16304 non-null  int64  \n",
      " 18  Pos_SG         16304 non-null  int64  \n",
      " 19  decades_1980s  16304 non-null  int64  \n",
      " 20  decades_1990s  16304 non-null  int64  \n",
      " 21  decades_2000s  16304 non-null  int64  \n",
      " 22  decades_2010s  16304 non-null  int64  \n",
      "dtypes: float64(14), int64(9)\n",
      "memory usage: 2.9 MB\n",
      "None\n"
     ]
    }
   ],
   "source": [
    "print(Xp.info())"
   ]
  },
  {
   "cell_type": "code",
   "execution_count": 11,
   "id": "39dbd98c-a479-4314-bc42-0331226968c6",
   "metadata": {},
   "outputs": [
    {
     "name": "stdout",
     "output_type": "stream",
     "text": [
      "<class 'pandas.core.frame.DataFrame'>\n",
      "RangeIndex: 16304 entries, 0 to 16303\n",
      "Data columns (total 1 columns):\n",
      " #   Column     Non-Null Count  Dtype \n",
      "---  ------     --------------  ----- \n",
      " 0   Archetype  16304 non-null  object\n",
      "dtypes: object(1)\n",
      "memory usage: 127.5+ KB\n",
      "None\n"
     ]
    }
   ],
   "source": [
    "print(yp.info())"
   ]
  },
  {
   "cell_type": "code",
   "execution_count": 12,
   "id": "5c3fccee-ba6c-4f9d-bc76-6467f1f93f95",
   "metadata": {},
   "outputs": [],
   "source": [
    "Xp_train, Xp_test, yp_train, yp_test = train_test_split(Xp, yp, test_size = 0.25, random_state = 42)"
   ]
  },
  {
   "cell_type": "code",
   "execution_count": 13,
   "id": "07915eba-ef68-4f8e-8771-10bb5f2c750d",
   "metadata": {},
   "outputs": [
    {
     "name": "stdout",
     "output_type": "stream",
     "text": [
      "(12228, 23) (4076, 23) (12228, 1) (4076, 1)\n"
     ]
    }
   ],
   "source": [
    "print(Xp_train.shape, Xp_test.shape, yp_train.shape, yp_test.shape)"
   ]
  },
  {
   "cell_type": "code",
   "execution_count": 14,
   "id": "a9626fad-180e-4d42-8060-ae16c2731c6d",
   "metadata": {},
   "outputs": [],
   "source": [
    "dtc = DecisionTreeClassifier()"
   ]
  },
  {
   "cell_type": "code",
   "execution_count": 67,
   "id": "e77dfca3-1d96-4f31-a74a-73ca66cb0599",
   "metadata": {},
   "outputs": [
    {
     "data": {
      "text/plain": [
       "{'fit_time': array([0.55376577, 0.56676602, 0.54776549, 0.58776546, 0.46074843,\n",
       "        0.44200039, 0.44562244, 0.43744969, 0.45488477, 0.43191433]),\n",
       " 'score_time': array([0.05600333, 0.08300471, 0.09300447, 0.06400442, 0.04687738,\n",
       "        0.06829715, 0.07667875, 0.06205368, 0.04273677, 0.04690194]),\n",
       " 'test_accuracy': array([0.91578087, 0.91578087, 0.91332788, 0.91578087, 0.90433361,\n",
       "        0.92068684, 0.91169256, 0.90678659, 0.91489362, 0.898527  ]),\n",
       " 'test_precision_weighted': array([0.91690619, 0.91618047, 0.91356897, 0.9178285 , 0.90495911,\n",
       "        0.92060528, 0.91219286, 0.90745408, 0.91637577, 0.90068745]),\n",
       " 'test_recall_weighted': array([0.91578087, 0.91578087, 0.91332788, 0.91578087, 0.90433361,\n",
       "        0.92068684, 0.91169256, 0.90678659, 0.91489362, 0.898527  ]),\n",
       " 'test_f1_weighted': array([0.91578528, 0.91564246, 0.91324428, 0.91620345, 0.90438164,\n",
       "        0.92044636, 0.91157237, 0.90692195, 0.91519975, 0.89881016])}"
      ]
     },
     "execution_count": 67,
     "metadata": {},
     "output_type": "execute_result"
    }
   ],
   "source": [
    "scorers = [\"accuracy\",\"precision_weighted\",\"recall_weighted\",\"f1_weighted\"]\n",
    "cross_validate(dtc, Xp_train, yp_train, scoring = scorers, cv = 10, n_jobs = -1)"
   ]
  },
  {
   "cell_type": "code",
   "execution_count": 68,
   "id": "2b6f9bb4-1863-45d5-8ca4-4bd1c6e81861",
   "metadata": {},
   "outputs": [],
   "source": [
    "cvscores = cross_validate(dtc, Xp_train, yp_train, scoring = scorers, cv = 10, n_jobs = -1)"
   ]
  },
  {
   "cell_type": "code",
   "execution_count": 69,
   "id": "29e08064-70e5-4386-98f5-a714bcbf2a6a",
   "metadata": {},
   "outputs": [
    {
     "name": "stdout",
     "output_type": "stream",
     "text": [
      "0.9086521566323589\n",
      "0.9093212957634943\n",
      "0.9086521566323589\n",
      "0.908624722752772\n"
     ]
    }
   ],
   "source": [
    "print(cvscores[\"test_accuracy\"].mean())\n",
    "print(cvscores[\"test_precision_weighted\"].mean())\n",
    "print(cvscores[\"test_recall_weighted\"].mean())\n",
    "print(cvscores[\"test_f1_weighted\"].mean())"
   ]
  },
  {
   "cell_type": "code",
   "execution_count": 57,
   "id": "caef5499-72be-4456-82ec-681bffc2baff",
   "metadata": {},
   "outputs": [],
   "source": [
    "dtc = dtc.fit(Xp_train, yp_train)\n",
    "predy = dtc.predict(Xp_test)\n",
    "from sklearn.metrics import classification_report, confusion_matrix"
   ]
  },
  {
   "cell_type": "code",
   "execution_count": 58,
   "id": "e59b6c42-3d4c-4397-840e-8bdafcce0b10",
   "metadata": {},
   "outputs": [
    {
     "name": "stdout",
     "output_type": "stream",
     "text": [
      "[[152   0   4   0   0   0   0   2   0   3]\n",
      " [  0 154   2   9   0   9   0   0   0   9]\n",
      " [  7   1 280   1   0   7   0  15   0   5]\n",
      " [  0  11   0 314   0  12   0   0  11   3]\n",
      " [  0   0   0   0 951   1  17   0   3   0]\n",
      " [  0  11   3   7   0 350   9  10  21   0]\n",
      " [  0   0   0   0  18   4 593  15   1   0]\n",
      " [  1   0  12   0   0  12  18 344   1   0]\n",
      " [  0   0   1   3   7  23   7   2 467   0]\n",
      " [  0   7   5   6   0   1   0   0   0 134]]\n"
     ]
    },
    {
     "data": {
      "text/plain": [
       "<AxesSubplot:>"
      ]
     },
     "execution_count": 58,
     "metadata": {},
     "output_type": "execute_result"
    },
    {
     "data": {
      "image/png": "[encoded data removed]",
      "text/plain": [
       "<Figure size 720x504 with 2 Axes>"
      ]
     },
     "metadata": {
      "needs_background": "light"
     },
     "output_type": "display_data"
    }
   ],
   "source": [
    "cm = confusion_matrix(yp_test,predy)\n",
    "print(cm)\n",
    "import seaborn as sns\n",
    "import matplotlib.pyplot as plt\n",
    "plt.figure(figsize = (10,7))\n",
    "sns.heatmap(cm, annot = True)"
   ]
  },
  {
   "cell_type": "code",
   "execution_count": 59,
   "id": "bf4b4bbb-9c4e-47cd-8dc0-a263aa9b6544",
   "metadata": {},
   "outputs": [
    {
     "name": "stdout",
     "output_type": "stream",
     "text": [
      "                       precision    recall  f1-score   support\n",
      "\n",
      "     All Star Big Man       0.95      0.94      0.95       161\n",
      "   All Star Playmaker       0.84      0.84      0.84       183\n",
      " All Star Post Scorer       0.91      0.89      0.90       316\n",
      "All Star Sharpshooter       0.92      0.89      0.91       351\n",
      "            Ignorance       0.97      0.98      0.98       972\n",
      "            Playmaker       0.84      0.85      0.84       411\n",
      "          Post Scorer       0.92      0.94      0.93       631\n",
      "        Rim Protector       0.89      0.89      0.89       388\n",
      "         Sharpshooter       0.93      0.92      0.92       510\n",
      "            Superstar       0.87      0.88      0.87       153\n",
      "\n",
      "             accuracy                           0.92      4076\n",
      "            macro avg       0.90      0.90      0.90      4076\n",
      "         weighted avg       0.92      0.92      0.92      4076\n",
      "\n"
     ]
    }
   ],
   "source": [
    "print(classification_report(yp_test, predy))"
   ]
  },
  {
   "cell_type": "code",
   "execution_count": 37,
   "id": "7cacf9d6-47b0-4cb3-bb87-df3fa3d769de",
   "metadata": {},
   "outputs": [
    {
     "name": "stdout",
     "output_type": "stream",
     "text": [
      "<class 'pandas.core.frame.DataFrame'>\n",
      "RangeIndex: 16304 entries, 0 to 16303\n",
      "Data columns (total 13 columns):\n",
      " #   Column      Non-Null Count  Dtype  \n",
      "---  ------      --------------  -----  \n",
      " 0   Unnamed: 0  16304 non-null  int64  \n",
      " 1    Salary     16304 non-null  float64\n",
      " 2   MP          16304 non-null  float64\n",
      " 3   3P          16304 non-null  float64\n",
      " 4   FT          16304 non-null  float64\n",
      " 5   TRB         16304 non-null  float64\n",
      " 6   AST         16304 non-null  float64\n",
      " 7   STL         16304 non-null  float64\n",
      " 8   BLK         16304 non-null  float64\n",
      " 9   TOV         16304 non-null  float64\n",
      " 10  PF          16304 non-null  float64\n",
      " 11  PTS         16304 non-null  float64\n",
      " 12  Archetype   16304 non-null  object \n",
      "dtypes: float64(11), int64(1), object(1)\n",
      "memory usage: 1.6+ MB\n",
      "None\n"
     ]
    }
   ],
   "source": [
    "nbafset = pd.read_csv(\"nbafeatset.csv\")\n",
    "print(nbafset.info())"
   ]
  },
  {
   "cell_type": "code",
   "execution_count": 38,
   "id": "61d82ffd-2173-456a-8584-961e7c2495fb",
   "metadata": {},
   "outputs": [
    {
     "name": "stdout",
     "output_type": "stream",
     "text": [
      "<class 'pandas.core.frame.DataFrame'>\n",
      "RangeIndex: 16304 entries, 0 to 16303\n",
      "Data columns (total 12 columns):\n",
      " #   Column     Non-Null Count  Dtype  \n",
      "---  ------     --------------  -----  \n",
      " 0    Salary    16304 non-null  float64\n",
      " 1   MP         16304 non-null  float64\n",
      " 2   3P         16304 non-null  float64\n",
      " 3   FT         16304 non-null  float64\n",
      " 4   TRB        16304 non-null  float64\n",
      " 5   AST        16304 non-null  float64\n",
      " 6   STL        16304 non-null  float64\n",
      " 7   BLK        16304 non-null  float64\n",
      " 8   TOV        16304 non-null  float64\n",
      " 9   PF         16304 non-null  float64\n",
      " 10  PTS        16304 non-null  float64\n",
      " 11  Archetype  16304 non-null  object \n",
      "dtypes: float64(11), object(1)\n",
      "memory usage: 1.5+ MB\n",
      "None\n"
     ]
    }
   ],
   "source": [
    "nbafset.drop(columns = nbafset.columns[0], axis = 1, inplace = True)\n",
    "print(nbafset.info())"
   ]
  },
  {
   "cell_type": "code",
   "execution_count": 151,
   "id": "b2bab283-565e-4c09-9a5a-7f5833787eec",
   "metadata": {},
   "outputs": [],
   "source": [
    "Xf = nbafset.drop(columns = \"Archetype\", axis = 1)\n",
    "yf = nbafset[[\"Archetype\"]]"
   ]
  },
  {
   "cell_type": "code",
   "execution_count": 152,
   "id": "81b03b36-23e0-4832-aff6-501225d84e6e",
   "metadata": {},
   "outputs": [
    {
     "name": "stdout",
     "output_type": "stream",
     "text": [
      "<class 'pandas.core.frame.DataFrame'>\n",
      "RangeIndex: 16304 entries, 0 to 16303\n",
      "Data columns (total 11 columns):\n",
      " #   Column    Non-Null Count  Dtype  \n",
      "---  ------    --------------  -----  \n",
      " 0    Salary   16304 non-null  float64\n",
      " 1   MP        16304 non-null  float64\n",
      " 2   3P        16304 non-null  float64\n",
      " 3   FT        16304 non-null  float64\n",
      " 4   TRB       16304 non-null  float64\n",
      " 5   AST       16304 non-null  float64\n",
      " 6   STL       16304 non-null  float64\n",
      " 7   BLK       16304 non-null  float64\n",
      " 8   TOV       16304 non-null  float64\n",
      " 9   PF        16304 non-null  float64\n",
      " 10  PTS       16304 non-null  float64\n",
      "dtypes: float64(11)\n",
      "memory usage: 1.4 MB\n",
      "<class 'pandas.core.frame.DataFrame'>\n",
      "RangeIndex: 16304 entries, 0 to 16303\n",
      "Data columns (total 1 columns):\n",
      " #   Column     Non-Null Count  Dtype \n",
      "---  ------     --------------  ----- \n",
      " 0   Archetype  16304 non-null  object\n",
      "dtypes: object(1)\n",
      "memory usage: 127.5+ KB\n",
      "None None\n"
     ]
    }
   ],
   "source": [
    "print(Xf.info(), yf.info())"
   ]
  },
  {
   "cell_type": "code",
   "execution_count": 153,
   "id": "f0658201-6cf4-4340-8413-a65ee9df7a10",
   "metadata": {},
   "outputs": [],
   "source": [
    "Xf_train, Xf_test, yf_train, yf_test = train_test_split(Xf, yf, test_size = 0.25, random_state = 42)"
   ]
  },
  {
   "cell_type": "code",
   "execution_count": 154,
   "id": "c89c5580-5a6f-4c31-b386-450bb62cfb7e",
   "metadata": {},
   "outputs": [
    {
     "name": "stdout",
     "output_type": "stream",
     "text": [
      "(12228, 11) (4076, 11) (12228, 1) (4076, 1)\n"
     ]
    }
   ],
   "source": [
    "print(Xf_train.shape, Xf_test.shape, yf_train.shape, yf_test.shape)"
   ]
  },
  {
   "cell_type": "code",
   "execution_count": 155,
   "id": "675fc7c4-6aac-4f1e-8da9-5a7bc829f04a",
   "metadata": {},
   "outputs": [],
   "source": [
    "dtc2 = DecisionTreeClassifier()"
   ]
  },
  {
   "cell_type": "code",
   "execution_count": 156,
   "id": "d12ee5db-89d2-4f93-af8e-eb328355a9af",
   "metadata": {},
   "outputs": [],
   "source": [
    "fcvscores = cross_validate(dtc2, Xf_train, yf_train, scoring = scorers, cv = 10, n_jobs = -1)"
   ]
  },
  {
   "cell_type": "code",
   "execution_count": 157,
   "id": "9da7addf-e626-4910-b369-9586865b5e59",
   "metadata": {},
   "outputs": [
    {
     "name": "stdout",
     "output_type": "stream",
     "text": [
      "0.9111054087437587\n",
      "0.9120153904498629\n",
      "0.9111054087437587\n",
      "0.911128883542881\n"
     ]
    }
   ],
   "source": [
    "print(fcvscores[\"test_accuracy\"].mean())\n",
    "print(fcvscores[\"test_precision_weighted\"].mean())\n",
    "print(fcvscores[\"test_recall_weighted\"].mean())\n",
    "print(fcvscores[\"test_f1_weighted\"].mean())"
   ]
  },
  {
   "cell_type": "code",
   "execution_count": 158,
   "id": "e6e5a5d2-6b3a-4fd9-8e71-b63fafe4fe5b",
   "metadata": {},
   "outputs": [
    {
     "name": "stdout",
     "output_type": "stream",
     "text": [
      "{'fit_time': array([0.31484509, 0.31484509, 0.33048391, 0.31484509, 0.33933091,\n",
      "       0.29872537, 0.3487289 , 0.29422975, 0.28050756, 0.28276038]), 'score_time': array([0.04690504, 0.06253123, 0.0468924 , 0.04690504, 0.07002425,\n",
      "       0.06700444, 0.05600309, 0.07700491, 0.04687762, 0.04686761]), 'test_accuracy': array([0.90923957, 0.91905151, 0.90842191, 0.91823385, 0.89533933,\n",
      "       0.92968111, 0.90678659, 0.90515127, 0.9091653 , 0.90998363]), 'test_precision_weighted': array([0.91101666, 0.92025437, 0.90905438, 0.91952346, 0.89603651,\n",
      "       0.93098453, 0.90693178, 0.90540411, 0.90993189, 0.91101622]), 'test_recall_weighted': array([0.90923957, 0.91905151, 0.90842191, 0.91823385, 0.89533933,\n",
      "       0.92968111, 0.90678659, 0.90515127, 0.9091653 , 0.90998363]), 'test_f1_weighted': array([0.9094467 , 0.91913462, 0.90849863, 0.91850183, 0.89523396,\n",
      "       0.92970204, 0.90647857, 0.90509086, 0.90917769, 0.91002394])}\n"
     ]
    }
   ],
   "source": [
    "print(fcvscores)"
   ]
  },
  {
   "cell_type": "code",
   "execution_count": 159,
   "id": "538281c4-c99f-40a2-91a9-1077d30082ae",
   "metadata": {},
   "outputs": [],
   "source": [
    "dtc2 = dtc2.fit(Xf_train,yf_train)\n",
    "predfy = dtc2.predict(Xf_test)"
   ]
  },
  {
   "cell_type": "code",
   "execution_count": 160,
   "id": "42053b57-29e3-43cf-affc-6b19094de7c8",
   "metadata": {},
   "outputs": [
    {
     "name": "stdout",
     "output_type": "stream",
     "text": [
      "[[155   0   2   0   0   0   0   1   0   3]\n",
      " [  0 157   3  10   0   8   0   0   0   5]\n",
      " [  6   1 284   2   0   8   0  11   0   4]\n",
      " [  0  13   0 313   0   5   0   0  18   2]\n",
      " [  0   0   0   0 950   1  16   0   5   0]\n",
      " [  0   9   6   7   1 351   5   9  23   0]\n",
      " [  0   0   0   0  20   3 589  18   1   0]\n",
      " [  2   0  13   0   0  10  21 342   0   0]\n",
      " [  0   0   0   7   2  32   7   2 460   0]\n",
      " [  0  10   4   6   0   1   0   0   0 132]]\n"
     ]
    },
    {
     "data": {
      "text/plain": [
       "<AxesSubplot:>"
      ]
     },
     "execution_count": 160,
     "metadata": {},
     "output_type": "execute_result"
    },
    {
     "data": {
      "image/png": "[encoded data removed]",
      "text/plain": [
       "<Figure size 720x504 with 2 Axes>"
      ]
     },
     "metadata": {
      "needs_background": "light"
     },
     "output_type": "display_data"
    }
   ],
   "source": [
    "fcm = confusion_matrix(yf_test,predfy)\n",
    "print(fcm)\n",
    "plt.figure(figsize = (10,7))\n",
    "sns.heatmap(fcm, annot = True)"
   ]
  },
  {
   "cell_type": "code",
   "execution_count": 161,
   "id": "cd21a60c-eaa2-4535-ab47-d7791ef010cf",
   "metadata": {},
   "outputs": [
    {
     "name": "stdout",
     "output_type": "stream",
     "text": [
      "                       precision    recall  f1-score   support\n",
      "\n",
      "     All Star Big Man       0.95      0.96      0.96       161\n",
      "   All Star Playmaker       0.83      0.86      0.84       183\n",
      " All Star Post Scorer       0.91      0.90      0.90       316\n",
      "All Star Sharpshooter       0.91      0.89      0.90       351\n",
      "            Ignorance       0.98      0.98      0.98       972\n",
      "            Playmaker       0.84      0.85      0.85       411\n",
      "          Post Scorer       0.92      0.93      0.93       631\n",
      "        Rim Protector       0.89      0.88      0.89       388\n",
      "         Sharpshooter       0.91      0.90      0.90       510\n",
      "            Superstar       0.90      0.86      0.88       153\n",
      "\n",
      "             accuracy                           0.92      4076\n",
      "            macro avg       0.90      0.90      0.90      4076\n",
      "         weighted avg       0.92      0.92      0.92      4076\n",
      "\n"
     ]
    }
   ],
   "source": [
    "print(classification_report(yf_test, predfy))"
   ]
  },
  {
   "cell_type": "code",
   "execution_count": null,
   "id": "7f4aff3e-b835-4cec-bcdb-a3a652beb180",
   "metadata": {},
   "outputs": [],
   "source": []
  },
  {
   "cell_type": "code",
   "execution_count": null,
   "id": "3cb77e4d-7286-4d70-926a-d71b3157dad8",
   "metadata": {},
   "outputs": [],
   "source": []
  },
  {
   "cell_type": "code",
   "execution_count": null,
   "id": "fe7aa662-b0a9-42a8-97d9-099a4a0921d6",
   "metadata": {},
   "outputs": [],
   "source": []
  },
  {
   "cell_type": "code",
   "execution_count": null,
   "id": "77063e3a-1795-42af-ab1d-8ddf78978c70",
   "metadata": {},
   "outputs": [],
   "source": []
  }
 ],
 "metadata": {
  "kernelspec": {
   "display_name": "Python 3 (ipykernel)",
   "language": "python",
   "name": "python3"
  },
  "language_info": {
   "codemirror_mode": {
    "name": "ipython",
    "version": 3
   },
   "file_extension": ".py",
   "mimetype": "text/x-python",
   "name": "python",
   "nbconvert_exporter": "python",
   "pygments_lexer": "ipython3",
   "version": "3.10.5"
  }
 },
 "nbformat": 4,
 "nbformat_minor": 5
}
